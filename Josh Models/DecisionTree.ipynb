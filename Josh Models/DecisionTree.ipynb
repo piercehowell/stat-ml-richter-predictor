{
  "nbformat": 4,
  "nbformat_minor": 0,
  "metadata": {
    "colab": {
      "name": "ECE 6254 Final Project pt2.ipynb",
      "provenance": []
    },
    "kernelspec": {
      "name": "python3",
      "display_name": "Python 3"
    },
    "language_info": {
      "name": "python"
    }
  },
  "cells": [
    {
      "cell_type": "code",
      "execution_count": null,
      "metadata": {
        "id": "xfzuWc4g552b"
      },
      "outputs": [],
      "source": [
        "import pandas as pd\n",
        "import numpy as np\n",
        "import os\n",
        "from sklearn.preprocessing import OneHotEncoder\n",
        "from sklearn.model_selection import train_test_split\n",
        "from sklearn.preprocessing import StandardScaler, OrdinalEncoder\n",
        "from sklearn.compose import ColumnTransformer\n",
        "from sklearn.pipeline import Pipeline\n",
        "from sklearn import tree\n",
        "import graphviz \n",
        "import pydotplus\n",
        "import matplotlib.pyplot as plt\n",
        "import matplotlib.image as pltimg\n",
        "from sklearn import metrics\n",
        "\n",
        "\n"
      ]
    },
    {
      "cell_type": "code",
      "source": [
        "features_df = pd.read_csv(\"/content/drive/MyDrive/data/train_values.csv\")\n",
        "labels_df = pd.read_csv(\"/content/drive/MyDrive/data/train_labels.csv\")\n",
        "\n",
        "\n",
        "int_columns = ['geo_level_1_id', 'geo_level_2_id', 'geo_level_3_id',\n",
        "               'count_floors_pre_eq', 'age', 'area_percentage', \n",
        "               'height_percentage']\n",
        "categ_columns = ['land_surface_condition', 'foundation_type', 'roof_type',\n",
        "                 'ground_floor_type', 'other_floor_type', 'position',\n",
        "                 'plan_configuration',\n",
        "                 ]\n",
        "binary_columns = ['has_superstructure_adobe_mud', 'has_superstructure_mud_mortar_stone',\n",
        "                  'has_superstructure_stone_flag', 'has_superstructure_cement_mortar_stone',\n",
        "                  'has_superstructure_mud_mortar_brick', 'has_superstructure_cement_mortar_brick',\n",
        "                  'has_superstructure_timber', 'has_superstructure_bamboo', 'has_superstructure_rc_engineered',\n",
        "                  'has_superstructure_other'\n",
        "                  ]\n",
        "\n",
        "def get_data():\n",
        "    \"\"\"\n",
        "    Returns the test - val split\n",
        "    \"\"\"\n",
        "\n",
        "    features_df = pd.read_csv(\"/content/drive/MyDrive/data/train_values.csv\")\n",
        "    labels_df = pd.read_csv(\"/content/drive/MyDrive/data/train_labels.csv\")\n",
        "\n",
        "    # select only the columns we want\n",
        "    X = features_df[ int_columns + categ_columns + binary_columns]\n",
        "    y = labels_df['damage_grade'].to_frame()\n",
        "    X_train, X_val, y_train, y_val = train_test_split(X, y, test_size=0.2, random_state=42)\n",
        "\n",
        "    print(\"Size information:\")\n",
        "    print(\"\\t Number of Training Samples: {}\".format(X_train.size))\n",
        "    print(\"\\t Number of Validation Samples: {}\".format(X_val.size))\n",
        "\n",
        "    numeric_transformer = Pipeline(steps=[\n",
        "        ('scaler', StandardScaler())\n",
        "    ])\n",
        "\n",
        "    categ_transformer = Pipeline(steps=[\n",
        "        ('encoder', OrdinalEncoder(dtype=np.float32))\n",
        "    ])\n",
        "\n",
        "\n",
        "    preprocessor = ColumnTransformer(\n",
        "        transformers=[\n",
        "            ('numeric', numeric_transformer, int_columns),\n",
        "            #('categorical', categ_transformer, categ_columns),\n",
        "            ('passthrough', 'passthrough', binary_columns)\n",
        "        ]\n",
        "    )\n",
        "\n",
        "    # preprocess the data\n",
        "    X_train = preprocessor.fit_transform(X_train).astype(np.float32)\n",
        "    X_val = preprocessor.fit_transform(X_val).astype(np.float32)\n",
        "    y_train = (y_train['damage_grade'].to_numpy())\n",
        "    y_val = (y_val['damage_grade'].to_numpy())\n",
        "    return(X_train, y_train, X_val, y_val)"
      ],
      "metadata": {
        "id": "YStvd-xE56sx"
      },
      "execution_count": null,
      "outputs": []
    },
    {
      "cell_type": "code",
      "source": [
        "(x_train, y_train, x_val, y_val) = get_data()"
      ],
      "metadata": {
        "colab": {
          "base_uri": "https://localhost:8080/"
        },
        "id": "hqq3twYR5_cg",
        "outputId": "40cb751e-bf18-4a70-8a8a-5df2e4e8061f"
      },
      "execution_count": null,
      "outputs": [
        {
          "output_type": "stream",
          "name": "stdout",
          "text": [
            "Size information:\n",
            "\t Number of Training Samples: 5003520\n",
            "\t Number of Validation Samples: 1250904\n"
          ]
        }
      ]
    },
    {
      "cell_type": "code",
      "source": [
        "clf = tree.DecisionTreeClassifier()\n",
        "clf = clf.fit(x_train, y_train)"
      ],
      "metadata": {
        "id": "jSJFrRwL6HEQ"
      },
      "execution_count": null,
      "outputs": []
    },
    {
      "cell_type": "code",
      "source": [
        "#text_representation = tree.export_text(clf)\n",
        "#print(text_representation)"
      ],
      "metadata": {
        "id": "c1mSitTd738B"
      },
      "execution_count": null,
      "outputs": []
    },
    {
      "cell_type": "code",
      "source": [
        "#with open(\"decistion_tree.txt\", \"w\") as fout:\n",
        "#    fout.write(text_representation)"
      ],
      "metadata": {
        "id": "ISwLpai7DJwq",
        "colab": {
          "base_uri": "https://localhost:8080/",
          "height": 182
        },
        "outputId": "3a1626ef-d499-44b9-8ada-b35f0dcd2661"
      },
      "execution_count": null,
      "outputs": [
        {
          "output_type": "error",
          "ename": "NameError",
          "evalue": "ignored",
          "traceback": [
            "\u001b[0;31m---------------------------------------------------------------------------\u001b[0m",
            "\u001b[0;31mNameError\u001b[0m                                 Traceback (most recent call last)",
            "\u001b[0;32m<ipython-input-5-189ee8d4bdf2>\u001b[0m in \u001b[0;36m<module>\u001b[0;34m()\u001b[0m\n\u001b[1;32m      1\u001b[0m \u001b[0;32mwith\u001b[0m \u001b[0mopen\u001b[0m\u001b[0;34m(\u001b[0m\u001b[0;34m\"decistion_tree.txt\"\u001b[0m\u001b[0;34m,\u001b[0m \u001b[0;34m\"w\"\u001b[0m\u001b[0;34m)\u001b[0m \u001b[0;32mas\u001b[0m \u001b[0mfout\u001b[0m\u001b[0;34m:\u001b[0m\u001b[0;34m\u001b[0m\u001b[0;34m\u001b[0m\u001b[0m\n\u001b[0;32m----> 2\u001b[0;31m     \u001b[0mfout\u001b[0m\u001b[0;34m.\u001b[0m\u001b[0mwrite\u001b[0m\u001b[0;34m(\u001b[0m\u001b[0mtext_representation\u001b[0m\u001b[0;34m)\u001b[0m\u001b[0;34m\u001b[0m\u001b[0;34m\u001b[0m\u001b[0m\n\u001b[0m",
            "\u001b[0;31mNameError\u001b[0m: name 'text_representation' is not defined"
          ]
        }
      ]
    },
    {
      "cell_type": "code",
      "source": [
        "y_pred = clf.predict(x_val)\n",
        "print(\"Accuracy:\",metrics.f1_score(y_val, y_pred, average='micro'))"
      ],
      "metadata": {
        "colab": {
          "base_uri": "https://localhost:8080/"
        },
        "id": "jkrozDOOD4dZ",
        "outputId": "aa6dfc16-55bb-4ef4-cf26-91580f138c49"
      },
      "execution_count": null,
      "outputs": [
        {
          "output_type": "stream",
          "name": "stdout",
          "text": [
            "Accuracy: 0.646764260087105\n"
          ]
        }
      ]
    }
  ]
}
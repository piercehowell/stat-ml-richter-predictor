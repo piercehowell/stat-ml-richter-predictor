{
  "cells": [
    {
      "cell_type": "code",
      "execution_count": null,
      "metadata": {
        "id": "dnY392SyaPlk"
      },
      "outputs": [],
      "source": [
        "import pandas as pd\n",
        "import numpy as np\n",
        "import os\n",
        "from sklearn.preprocessing import OneHotEncoder\n",
        "from sklearn.model_selection import train_test_split\n",
        "from sklearn.preprocessing import StandardScaler, OrdinalEncoder\n",
        "from sklearn.compose import ColumnTransformer\n",
        "from sklearn.pipeline import Pipeline\n",
        "from sklearn import tree\n",
        "from sklearn import metrics\n",
        "import graphviz \n",
        "from sklearn.ensemble import RandomForestClassifier\n",
        "\n",
        "\n"
      ]
    },
    {
      "cell_type": "code",
      "execution_count": null,
      "metadata": {
        "id": "wovA6hVNcjhI"
      },
      "outputs": [],
      "source": [
        "features_df = pd.read_csv(\"/content/drive/MyDrive/data/train_values.csv\")\n",
        "labels_df = pd.read_csv(\"/content/drive/MyDrive/data/train_labels.csv\")\n",
        "\n",
        "\n",
        "int_columns = ['geo_level_1_id', 'geo_level_2_id', 'geo_level_3_id',\n",
        "               'count_floors_pre_eq', 'age', 'area_percentage', \n",
        "               'height_percentage']\n",
        "categ_columns = ['land_surface_condition', 'foundation_type', 'roof_type',\n",
        "                 'ground_floor_type', 'other_floor_type', 'position',\n",
        "                 'plan_configuration',\n",
        "                 ]\n",
        "binary_columns = ['has_superstructure_adobe_mud', 'has_superstructure_mud_mortar_stone',\n",
        "                  'has_superstructure_stone_flag', 'has_superstructure_cement_mortar_stone',\n",
        "                  'has_superstructure_mud_mortar_brick', 'has_superstructure_cement_mortar_brick',\n",
        "                  'has_superstructure_timber', 'has_superstructure_bamboo', 'has_superstructure_rc_engineered',\n",
        "                  'has_superstructure_other'\n",
        "                  ]\n",
        "\n",
        "def get_data():\n",
        "    \"\"\"\n",
        "    Returns the test - val split\n",
        "    \"\"\"\n",
        "\n",
        "    features_df = pd.read_csv(\"/content/drive/MyDrive/data/train_values.csv\")\n",
        "    labels_df = pd.read_csv(\"/content/drive/MyDrive/data/train_labels.csv\")\n",
        "\n",
        "    # select only the columns we want\n",
        "    X = features_df[ int_columns + categ_columns + binary_columns]\n",
        "    y = labels_df['damage_grade'].to_frame()\n",
        "    X_train, X_val, y_train, y_val = train_test_split(X, y, test_size=0.2, random_state=42)\n",
        "\n",
        "    print(\"Size information:\")\n",
        "    print(\"\\t Number of Training Samples: {}\".format(X_train.size))\n",
        "    print(\"\\t Number of Validation Samples: {}\".format(X_val.size))\n",
        "\n",
        "    numeric_transformer = Pipeline(steps=[\n",
        "        ('scaler', StandardScaler())\n",
        "    ])\n",
        "\n",
        "    categ_transformer = Pipeline(steps=[\n",
        "        ('encoder', OrdinalEncoder(dtype=np.float32))\n",
        "    ])\n",
        "\n",
        "\n",
        "    preprocessor = ColumnTransformer(\n",
        "        transformers=[\n",
        "            ('numeric', numeric_transformer, int_columns),\n",
        "            ('categorical', categ_transformer, categ_columns),\n",
        "            ('passthrough', 'passthrough', binary_columns)\n",
        "        ]\n",
        "    )\n",
        "\n",
        "    # preprocess the data\n",
        "    X_train = preprocessor.fit_transform(X_train).astype(np.float32)\n",
        "    X_val = preprocessor.fit_transform(X_val).astype(np.float32)\n",
        "    y_train = (y_train['damage_grade'].to_numpy())\n",
        "    y_val = (y_val['damage_grade'].to_numpy())\n",
        "    return(X_train, y_train, X_val, y_val)"
      ]
    },
    {
      "cell_type": "code",
      "execution_count": null,
      "metadata": {
        "colab": {
          "base_uri": "https://localhost:8080/"
        },
        "id": "pNbKExTEeJFH",
        "outputId": "b4fea8ed-f435-4039-8cd8-5e1566085a2f"
      },
      "outputs": [
        {
          "output_type": "stream",
          "name": "stdout",
          "text": [
            "Size information:\n",
            "\t Number of Training Samples: 5003520\n",
            "\t Number of Validation Samples: 1250904\n"
          ]
        }
      ],
      "source": [
        "(x_train, y_train, x_val, y_val) = get_data()"
      ]
    },
    {
      "cell_type": "code",
      "execution_count": null,
      "metadata": {
        "colab": {
          "base_uri": "https://localhost:8080/"
        },
        "id": "tQ1UgpbXeW5X",
        "outputId": "fb01f74d-3a89-4d50-a910-0a9a09839f23"
      },
      "outputs": [
        {
          "output_type": "stream",
          "name": "stdout",
          "text": [
            "Accuracy for 1: 0.62082461963508\n",
            "Accuracy for 10: 0.6951132940657316\n",
            "Accuracy for 50: 0.7108075439841907\n",
            "Accuracy for 100: 0.7142802325358301\n"
          ]
        }
      ],
      "source": [
        "est = [1,10,50,100]\n",
        "#pred_list = []\n",
        "for val in est:\n",
        "  rf = RandomForestClassifier(n_estimators = val, random_state = 42)\n",
        "  rf.fit(x_train, y_train)\n",
        "  y_pred = rf.predict(x_val)\n",
        "  #pred_list = pred_list.append(y_pred)\n",
        "  rounded_y_pred = [round(num) for num in y_pred]\n",
        "  print(\"Accuracy for \" + str(val) +\":\",metrics.f1_score(y_val, rounded_y_pred, average='micro'))"
      ]
    },
    {
      "cell_type": "code",
      "execution_count": null,
      "metadata": {
        "id": "vupk4Te8f_et"
      },
      "outputs": [],
      "source": [
        ""
      ]
    },
    {
      "cell_type": "code",
      "execution_count": null,
      "metadata": {
        "colab": {
          "base_uri": "https://localhost:8080/"
        },
        "id": "dhjH2ip59iNG",
        "outputId": "a234f0c8-2a5f-44a2-cbd9-ed039f0eab8e"
      },
      "outputs": [
        {
          "name": "stdout",
          "output_type": "stream",
          "text": [
            "Accuracy: 0.7106540549874331\n"
          ]
        }
      ],
      "source": [
        ""
      ]
    }
  ],
  "metadata": {
    "colab": {
      "collapsed_sections": [],
      "name": "Copy of ECE 6254 Final Project.ipynb",
      "provenance": []
    },
    "kernelspec": {
      "display_name": "Python 3",
      "name": "python3"
    },
    "language_info": {
      "name": "python"
    }
  },
  "nbformat": 4,
  "nbformat_minor": 0
}
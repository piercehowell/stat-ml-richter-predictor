{
 "cells": [
  {
   "cell_type": "code",
   "execution_count": 205,
   "metadata": {},
   "outputs": [],
   "source": [
    "import pandas as pd\n",
    "import numpy as np\n",
    "import os\n",
    "from sklearn import preprocessing \n",
    "from sklearn.preprocessing import OneHotEncoder, OrdinalEncoder\n",
    "\n",
    "data_dir = \"../data/\"\n",
    "train_vals_df = pd.read_csv(os.path.join(data_dir, \"train_values.csv\"))\n",
    "train_labels_df = pd.read_csv(os.path.join(data_dir, \"train_labels.csv\"))\n",
    "\n",
    "# get categorical data\n",
    "X1 = train_vals_df[[\"geo_level_1_id\", \"geo_level_2_id\", \"position\", \"foundation_type\", \"roof_type\", \"ground_floor_type\", \"other_floor_type\", \"plan_configuration\", \"legal_ownership_status\"]].to_numpy()\n",
    "\n",
    "enc = OrdinalEncoder()\n",
    "enc.fit(X1)\n",
    "X1 = enc.transform(X1)\n",
    "\n",
    "## get numerical data\n",
    "df = train_vals_df[[\n",
    "'count_floors_pre_eq',\n",
    "'age',\n",
    "'area_percentage',\n",
    "'height_percentage']]\n",
    "\n",
    "# normalize numerical data\n",
    "min_max_scaler = preprocessing.MinMaxScaler()\n",
    "X2 = min_max_scaler.fit_transform(df.values)\n",
    "\n",
    "\n",
    "# get labels\n",
    "\n",
    "y = train_labels_df[\"damage_grade\"].to_numpy()\n",
    "y = np.eye(3)[y-1]\n",
    "\n",
    "X = np.concatenate((X1,X2), axis = 1)\n",
    "# X = np.asarray(X).astype('float32')"
   ]
  },
  {
   "cell_type": "code",
   "execution_count": 206,
   "metadata": {},
   "outputs": [
    {
     "data": {
      "text/plain": [
       "Index(['building_id', 'geo_level_1_id', 'geo_level_2_id', 'geo_level_3_id',\n",
       "       'count_floors_pre_eq', 'age', 'area_percentage', 'height_percentage',\n",
       "       'land_surface_condition', 'foundation_type', 'roof_type',\n",
       "       'ground_floor_type', 'other_floor_type', 'position',\n",
       "       'plan_configuration', 'has_superstructure_adobe_mud',\n",
       "       'has_superstructure_mud_mortar_stone', 'has_superstructure_stone_flag',\n",
       "       'has_superstructure_cement_mortar_stone',\n",
       "       'has_superstructure_mud_mortar_brick',\n",
       "       'has_superstructure_cement_mortar_brick', 'has_superstructure_timber',\n",
       "       'has_superstructure_bamboo', 'has_superstructure_rc_non_engineered',\n",
       "       'has_superstructure_rc_engineered', 'has_superstructure_other',\n",
       "       'legal_ownership_status', 'count_families', 'has_secondary_use',\n",
       "       'has_secondary_use_agriculture', 'has_secondary_use_hotel',\n",
       "       'has_secondary_use_rental', 'has_secondary_use_institution',\n",
       "       'has_secondary_use_school', 'has_secondary_use_industry',\n",
       "       'has_secondary_use_health_post', 'has_secondary_use_gov_office',\n",
       "       'has_secondary_use_use_police', 'has_secondary_use_other'],\n",
       "      dtype='object')"
      ]
     },
     "execution_count": 206,
     "metadata": {},
     "output_type": "execute_result"
    }
   ],
   "source": [
    "train_vals_df = pd.read_csv(os.path.join(data_dir, \"train_values.csv\"))\n",
    "train_vals_df.columns\n",
    "# train_labels_df = pd.read_csv(os.path.join(data_dir, \"train_labels.csv\"))"
   ]
  },
  {
   "cell_type": "code",
   "execution_count": 207,
   "metadata": {},
   "outputs": [
    {
     "data": {
      "text/plain": [
       "array(['a', 'r', 'v', 'w'], dtype=object)"
      ]
     },
     "execution_count": 207,
     "metadata": {},
     "output_type": "execute_result"
    }
   ],
   "source": [
    "np.unique(train_vals_df[\"legal_ownership_status\"])"
   ]
  },
  {
   "cell_type": "markdown",
   "metadata": {},
   "source": [
    "## Train val test split\n",
    "### X1 is categorical data and X2 is numerical data"
   ]
  },
  {
   "cell_type": "code",
   "execution_count": 208,
   "metadata": {},
   "outputs": [],
   "source": [
    "rng = np.random.RandomState(7)\n",
    "perm = rng.permutation(range(len(X)))\n",
    "X_rand = X[perm]\n",
    "y_rand = y[perm]\n",
    "\n",
    "trainIdx = int(.7*len(X))\n",
    "valIdx = int(.85*len(X))\n",
    "X_train = X[:trainIdx]\n",
    "y_train = y[:trainIdx]\n",
    "X_val = X[trainIdx:valIdx]\n",
    "y_val = y[trainIdx:valIdx]\n",
    "X_test = X[valIdx:]\n",
    "y_test = y[valIdx:]"
   ]
  },
  {
   "cell_type": "code",
   "execution_count": 209,
   "metadata": {},
   "outputs": [
    {
     "data": {
      "text/plain": [
       "array([0., 1., 2., 3.])"
      ]
     },
     "execution_count": 209,
     "metadata": {},
     "output_type": "execute_result"
    }
   ],
   "source": [
    "np.unique(X[:,2])"
   ]
  },
  {
   "cell_type": "code",
   "execution_count": 210,
   "metadata": {},
   "outputs": [],
   "source": [
    "checkpoint_filepath = '/tmp/checkpoint'\n",
    "model_checkpoint_callback = tf.keras.callbacks.ModelCheckpoint(\n",
    "    filepath=checkpoint_filepath,\n",
    "    save_weights_only=True,\n",
    "    monitor='val_accuracy',\n",
    "    mode='max',\n",
    "    save_best_only=True)"
   ]
  },
  {
   "cell_type": "markdown",
   "metadata": {},
   "source": [
    "## Create model that embeds categorical data (each location separately)"
   ]
  },
  {
   "cell_type": "code",
   "execution_count": 211,
   "metadata": {},
   "outputs": [],
   "source": [
    "## This model achieves .7037 micro F1\n",
    "import tensorflow as tf\n",
    "from tensorflow.keras.models import Model\n",
    "from tensorflow.keras.layers import Input,Dense, Embedding\n",
    "\n",
    "# checkpoint_filepath = '/tmp/saved_models'\n",
    "# model_checkpoint_callback = tf.keras.callbacks.ModelCheckpoint(\n",
    "#     filepath=checkpoint_filepath,\n",
    "#     save_weights_only=True,\n",
    "#     monitor='val_categorical_accuracy',\n",
    "#     mode='max',\n",
    "#     save_best_only=True)\n",
    "\n",
    "# ## Creating the layers\n",
    "# batch_size = 100\n",
    "# input = Input(shape=(8,)) \n",
    "# embedding0 = Embedding(31, 2)(input[:,0]) # geo id 1\n",
    "# embedding1 = Embedding(1428, 2)(input[:,1]) # geo id 2\n",
    "# embedding2 = Embedding(4, 2)(input[:,2]) # position\n",
    "# embedding3 = Embedding(5, 2)(input[:,3]) # foundation type\n",
    "# Layer_1 = Dense(10, activation=\"relu\")(tf.concat([embedding0,embedding1,embedding2,embedding3,input[:,4:]], 1))\n",
    "# Layer_2 = Dense(5, activation=\"relu\")(Layer_1)\n",
    "# output_layer= Dense(3, activation=\"softmax\")(Layer_2)\n",
    "\n",
    "# model = tf.keras.Model(inputs=input, outputs=output_layer, name=\"emb_model\")\n",
    "# opt = tf.keras.optimizers.Adam(learning_rate=0.0001)\n",
    "# model.compile(optimizer=opt, loss='CategoricalCrossentropy', metrics=['CategoricalAccuracy'])\n",
    "# history = model.fit(X_train, y_train, epochs=25, batch_size=batch_size, validation_data=(X_val, y_val), callbacks=[model_checkpoint_callback])"
   ]
  },
  {
   "cell_type": "code",
   "execution_count": 212,
   "metadata": {},
   "outputs": [
    {
     "name": "stdout",
     "output_type": "stream",
     "text": [
      "Epoch 1/100\n",
      "357/357 [==============================] - 1s 2ms/step - loss: 1.0803 - categorical_accuracy: 0.4494 - val_loss: 0.9847 - val_categorical_accuracy: 0.5672\n",
      "Epoch 2/100\n",
      "357/357 [==============================] - 0s 1ms/step - loss: 0.9433 - categorical_accuracy: 0.5689 - val_loss: 0.8556 - val_categorical_accuracy: 0.5672\n",
      "Epoch 3/100\n",
      "357/357 [==============================] - 0s 1ms/step - loss: 0.8392 - categorical_accuracy: 0.5697 - val_loss: 0.7846 - val_categorical_accuracy: 0.6332\n",
      "Epoch 4/100\n",
      "357/357 [==============================] - 0s 1ms/step - loss: 0.7645 - categorical_accuracy: 0.6584 - val_loss: 0.7134 - val_categorical_accuracy: 0.6796\n",
      "Epoch 5/100\n",
      "357/357 [==============================] - 1s 1ms/step - loss: 0.6996 - categorical_accuracy: 0.6853 - val_loss: 0.6811 - val_categorical_accuracy: 0.6893\n",
      "Epoch 6/100\n",
      "357/357 [==============================] - 1s 2ms/step - loss: 0.6721 - categorical_accuracy: 0.6930 - val_loss: 0.6658 - val_categorical_accuracy: 0.6952\n",
      "Epoch 7/100\n",
      "357/357 [==============================] - 0s 1ms/step - loss: 0.6577 - categorical_accuracy: 0.7006 - val_loss: 0.6581 - val_categorical_accuracy: 0.7040\n",
      "Epoch 8/100\n",
      "357/357 [==============================] - 0s 1ms/step - loss: 0.6485 - categorical_accuracy: 0.7046 - val_loss: 0.6531 - val_categorical_accuracy: 0.7048\n",
      "Epoch 9/100\n",
      "357/357 [==============================] - 0s 1ms/step - loss: 0.6466 - categorical_accuracy: 0.7061 - val_loss: 0.6497 - val_categorical_accuracy: 0.7053\n",
      "Epoch 10/100\n",
      "357/357 [==============================] - 0s 1ms/step - loss: 0.6405 - categorical_accuracy: 0.7071 - val_loss: 0.6472 - val_categorical_accuracy: 0.7060\n",
      "Epoch 11/100\n",
      "357/357 [==============================] - 0s 1ms/step - loss: 0.6410 - categorical_accuracy: 0.7078 - val_loss: 0.6453 - val_categorical_accuracy: 0.7074\n",
      "Epoch 12/100\n",
      "357/357 [==============================] - 0s 1ms/step - loss: 0.6378 - categorical_accuracy: 0.7083 - val_loss: 0.6437 - val_categorical_accuracy: 0.7077\n",
      "Epoch 13/100\n",
      "357/357 [==============================] - 0s 1ms/step - loss: 0.6339 - categorical_accuracy: 0.7097 - val_loss: 0.6424 - val_categorical_accuracy: 0.7077\n",
      "Epoch 14/100\n",
      "357/357 [==============================] - 0s 1ms/step - loss: 0.6342 - categorical_accuracy: 0.7095 - val_loss: 0.6412 - val_categorical_accuracy: 0.7083\n",
      "Epoch 15/100\n",
      "357/357 [==============================] - 0s 1ms/step - loss: 0.6321 - categorical_accuracy: 0.7101 - val_loss: 0.6401 - val_categorical_accuracy: 0.7076\n",
      "Epoch 16/100\n",
      "357/357 [==============================] - 0s 1ms/step - loss: 0.6288 - categorical_accuracy: 0.7116 - val_loss: 0.6389 - val_categorical_accuracy: 0.7087\n",
      "Epoch 17/100\n",
      "357/357 [==============================] - 0s 1ms/step - loss: 0.6309 - categorical_accuracy: 0.7110 - val_loss: 0.6382 - val_categorical_accuracy: 0.7086\n",
      "Epoch 18/100\n",
      "357/357 [==============================] - 0s 1ms/step - loss: 0.6312 - categorical_accuracy: 0.7102 - val_loss: 0.6370 - val_categorical_accuracy: 0.7090\n",
      "Epoch 19/100\n",
      "357/357 [==============================] - 0s 1ms/step - loss: 0.6279 - categorical_accuracy: 0.7124 - val_loss: 0.6362 - val_categorical_accuracy: 0.7089\n",
      "Epoch 20/100\n",
      "357/357 [==============================] - 0s 1ms/step - loss: 0.6285 - categorical_accuracy: 0.7119 - val_loss: 0.6354 - val_categorical_accuracy: 0.7098\n",
      "Epoch 21/100\n",
      "357/357 [==============================] - 0s 1ms/step - loss: 0.6261 - categorical_accuracy: 0.7121 - val_loss: 0.6346 - val_categorical_accuracy: 0.7089\n",
      "Epoch 22/100\n",
      "357/357 [==============================] - 0s 1ms/step - loss: 0.6259 - categorical_accuracy: 0.7129 - val_loss: 0.6339 - val_categorical_accuracy: 0.7085\n",
      "Epoch 23/100\n",
      "357/357 [==============================] - 0s 1ms/step - loss: 0.6249 - categorical_accuracy: 0.7114 - val_loss: 0.6330 - val_categorical_accuracy: 0.7096\n",
      "Epoch 24/100\n",
      "357/357 [==============================] - 0s 1ms/step - loss: 0.6249 - categorical_accuracy: 0.7125 - val_loss: 0.6324 - val_categorical_accuracy: 0.7106\n",
      "Epoch 25/100\n",
      "357/357 [==============================] - 0s 1ms/step - loss: 0.6246 - categorical_accuracy: 0.7123 - val_loss: 0.6319 - val_categorical_accuracy: 0.7101\n",
      "Epoch 26/100\n",
      "357/357 [==============================] - 0s 1ms/step - loss: 0.6230 - categorical_accuracy: 0.7150 - val_loss: 0.6312 - val_categorical_accuracy: 0.7102\n",
      "Epoch 27/100\n",
      "357/357 [==============================] - 0s 1ms/step - loss: 0.6231 - categorical_accuracy: 0.7128 - val_loss: 0.6307 - val_categorical_accuracy: 0.7105\n",
      "Epoch 28/100\n",
      "357/357 [==============================] - 0s 1ms/step - loss: 0.6212 - categorical_accuracy: 0.7138 - val_loss: 0.6302 - val_categorical_accuracy: 0.7103\n",
      "Epoch 29/100\n",
      "357/357 [==============================] - 0s 1ms/step - loss: 0.6198 - categorical_accuracy: 0.7154 - val_loss: 0.6298 - val_categorical_accuracy: 0.7097\n",
      "Epoch 30/100\n",
      "357/357 [==============================] - 0s 1ms/step - loss: 0.6180 - categorical_accuracy: 0.7143 - val_loss: 0.6294 - val_categorical_accuracy: 0.7101\n",
      "Epoch 31/100\n",
      "357/357 [==============================] - 0s 1ms/step - loss: 0.6196 - categorical_accuracy: 0.7132 - val_loss: 0.6294 - val_categorical_accuracy: 0.7103\n",
      "Epoch 32/100\n",
      "357/357 [==============================] - 0s 1ms/step - loss: 0.6185 - categorical_accuracy: 0.7150 - val_loss: 0.6288 - val_categorical_accuracy: 0.7101\n",
      "Epoch 33/100\n",
      "357/357 [==============================] - 0s 1ms/step - loss: 0.6189 - categorical_accuracy: 0.7150 - val_loss: 0.6286 - val_categorical_accuracy: 0.7099\n",
      "Epoch 34/100\n",
      "357/357 [==============================] - 0s 1ms/step - loss: 0.6175 - categorical_accuracy: 0.7158 - val_loss: 0.6285 - val_categorical_accuracy: 0.7107\n",
      "Epoch 35/100\n",
      "357/357 [==============================] - 0s 1ms/step - loss: 0.6182 - categorical_accuracy: 0.7148 - val_loss: 0.6281 - val_categorical_accuracy: 0.7103\n",
      "Epoch 36/100\n",
      "357/357 [==============================] - 0s 1ms/step - loss: 0.6153 - categorical_accuracy: 0.7151 - val_loss: 0.6283 - val_categorical_accuracy: 0.7091\n",
      "Epoch 37/100\n",
      "357/357 [==============================] - 0s 1ms/step - loss: 0.6185 - categorical_accuracy: 0.7140 - val_loss: 0.6277 - val_categorical_accuracy: 0.7110\n",
      "Epoch 38/100\n",
      "357/357 [==============================] - 0s 1ms/step - loss: 0.6170 - categorical_accuracy: 0.7150 - val_loss: 0.6275 - val_categorical_accuracy: 0.7103\n",
      "Epoch 39/100\n",
      "357/357 [==============================] - 0s 1ms/step - loss: 0.6184 - categorical_accuracy: 0.7144 - val_loss: 0.6273 - val_categorical_accuracy: 0.7107\n",
      "Epoch 40/100\n",
      "357/357 [==============================] - 0s 1ms/step - loss: 0.6167 - categorical_accuracy: 0.7148 - val_loss: 0.6272 - val_categorical_accuracy: 0.7105\n",
      "Epoch 41/100\n",
      "357/357 [==============================] - 0s 1ms/step - loss: 0.6184 - categorical_accuracy: 0.7138 - val_loss: 0.6270 - val_categorical_accuracy: 0.7105\n",
      "Epoch 42/100\n",
      "357/357 [==============================] - 0s 1ms/step - loss: 0.6154 - categorical_accuracy: 0.7155 - val_loss: 0.6269 - val_categorical_accuracy: 0.7111\n",
      "Epoch 43/100\n",
      "357/357 [==============================] - 1s 2ms/step - loss: 0.6141 - categorical_accuracy: 0.7161 - val_loss: 0.6267 - val_categorical_accuracy: 0.7112\n",
      "Epoch 44/100\n",
      "357/357 [==============================] - 0s 1ms/step - loss: 0.6162 - categorical_accuracy: 0.7155 - val_loss: 0.6266 - val_categorical_accuracy: 0.7112\n",
      "Epoch 45/100\n",
      "357/357 [==============================] - 0s 1ms/step - loss: 0.6157 - categorical_accuracy: 0.7154 - val_loss: 0.6265 - val_categorical_accuracy: 0.7109\n",
      "Epoch 46/100\n",
      "357/357 [==============================] - 0s 1ms/step - loss: 0.6154 - categorical_accuracy: 0.7166 - val_loss: 0.6266 - val_categorical_accuracy: 0.7100\n",
      "Epoch 47/100\n",
      "357/357 [==============================] - 0s 1ms/step - loss: 0.6133 - categorical_accuracy: 0.7167 - val_loss: 0.6263 - val_categorical_accuracy: 0.7114\n",
      "Epoch 48/100\n",
      "357/357 [==============================] - 0s 1ms/step - loss: 0.6132 - categorical_accuracy: 0.7167 - val_loss: 0.6261 - val_categorical_accuracy: 0.7113\n",
      "Epoch 49/100\n",
      "357/357 [==============================] - 0s 1ms/step - loss: 0.6133 - categorical_accuracy: 0.7161 - val_loss: 0.6262 - val_categorical_accuracy: 0.7110\n",
      "Epoch 50/100\n",
      "357/357 [==============================] - 0s 1ms/step - loss: 0.6161 - categorical_accuracy: 0.7152 - val_loss: 0.6259 - val_categorical_accuracy: 0.7113\n",
      "Epoch 51/100\n",
      "357/357 [==============================] - 0s 1ms/step - loss: 0.6149 - categorical_accuracy: 0.7163 - val_loss: 0.6259 - val_categorical_accuracy: 0.7114\n",
      "Epoch 52/100\n",
      "357/357 [==============================] - 0s 1ms/step - loss: 0.6132 - categorical_accuracy: 0.7155 - val_loss: 0.6257 - val_categorical_accuracy: 0.7119\n",
      "Epoch 53/100\n",
      "357/357 [==============================] - 0s 1ms/step - loss: 0.6112 - categorical_accuracy: 0.7171 - val_loss: 0.6257 - val_categorical_accuracy: 0.7115\n",
      "Epoch 54/100\n",
      "357/357 [==============================] - 0s 1ms/step - loss: 0.6123 - categorical_accuracy: 0.7164 - val_loss: 0.6255 - val_categorical_accuracy: 0.7120\n",
      "Epoch 55/100\n",
      "357/357 [==============================] - 0s 1ms/step - loss: 0.6141 - categorical_accuracy: 0.7148 - val_loss: 0.6255 - val_categorical_accuracy: 0.7113\n",
      "Epoch 56/100\n",
      "357/357 [==============================] - 0s 1ms/step - loss: 0.6152 - categorical_accuracy: 0.7141 - val_loss: 0.6255 - val_categorical_accuracy: 0.7112\n",
      "Epoch 57/100\n",
      "357/357 [==============================] - 0s 1ms/step - loss: 0.6137 - categorical_accuracy: 0.7147 - val_loss: 0.6253 - val_categorical_accuracy: 0.7116\n",
      "Epoch 58/100\n",
      "357/357 [==============================] - 0s 1ms/step - loss: 0.6125 - categorical_accuracy: 0.7151 - val_loss: 0.6252 - val_categorical_accuracy: 0.7118\n",
      "Epoch 59/100\n",
      "357/357 [==============================] - 0s 1ms/step - loss: 0.6143 - categorical_accuracy: 0.7140 - val_loss: 0.6252 - val_categorical_accuracy: 0.7121\n",
      "Epoch 60/100\n",
      "357/357 [==============================] - 0s 1ms/step - loss: 0.6115 - categorical_accuracy: 0.7156 - val_loss: 0.6250 - val_categorical_accuracy: 0.7115\n",
      "Epoch 61/100\n",
      "357/357 [==============================] - 0s 1ms/step - loss: 0.6107 - categorical_accuracy: 0.7177 - val_loss: 0.6249 - val_categorical_accuracy: 0.7114\n",
      "Epoch 62/100\n",
      "357/357 [==============================] - 0s 1ms/step - loss: 0.6111 - categorical_accuracy: 0.7171 - val_loss: 0.6250 - val_categorical_accuracy: 0.7115\n",
      "Epoch 63/100\n",
      "357/357 [==============================] - 0s 1ms/step - loss: 0.6145 - categorical_accuracy: 0.7135 - val_loss: 0.6248 - val_categorical_accuracy: 0.7114\n",
      "Epoch 64/100\n",
      "357/357 [==============================] - 0s 1ms/step - loss: 0.6119 - categorical_accuracy: 0.7162 - val_loss: 0.6247 - val_categorical_accuracy: 0.7114\n",
      "Epoch 65/100\n",
      "357/357 [==============================] - 0s 1ms/step - loss: 0.6100 - categorical_accuracy: 0.7171 - val_loss: 0.6246 - val_categorical_accuracy: 0.7112\n",
      "Epoch 66/100\n",
      "357/357 [==============================] - 0s 1ms/step - loss: 0.6136 - categorical_accuracy: 0.7154 - val_loss: 0.6246 - val_categorical_accuracy: 0.7116\n",
      "Epoch 67/100\n",
      "357/357 [==============================] - 0s 1ms/step - loss: 0.6117 - categorical_accuracy: 0.7154 - val_loss: 0.6244 - val_categorical_accuracy: 0.7119\n",
      "Epoch 68/100\n",
      "357/357 [==============================] - 0s 1ms/step - loss: 0.6118 - categorical_accuracy: 0.7165 - val_loss: 0.6244 - val_categorical_accuracy: 0.7118\n",
      "Epoch 69/100\n",
      "357/357 [==============================] - 0s 1ms/step - loss: 0.6138 - categorical_accuracy: 0.7149 - val_loss: 0.6243 - val_categorical_accuracy: 0.7118\n",
      "Epoch 70/100\n",
      "357/357 [==============================] - 0s 1ms/step - loss: 0.6117 - categorical_accuracy: 0.7157 - val_loss: 0.6243 - val_categorical_accuracy: 0.7113\n",
      "Epoch 71/100\n",
      "357/357 [==============================] - 0s 1ms/step - loss: 0.6095 - categorical_accuracy: 0.7177 - val_loss: 0.6242 - val_categorical_accuracy: 0.7109\n",
      "Epoch 72/100\n",
      "357/357 [==============================] - 0s 1ms/step - loss: 0.6106 - categorical_accuracy: 0.7167 - val_loss: 0.6241 - val_categorical_accuracy: 0.7120\n",
      "Epoch 73/100\n",
      "357/357 [==============================] - 0s 1ms/step - loss: 0.6107 - categorical_accuracy: 0.7159 - val_loss: 0.6240 - val_categorical_accuracy: 0.7117\n",
      "Epoch 74/100\n",
      "357/357 [==============================] - 0s 1ms/step - loss: 0.6083 - categorical_accuracy: 0.7172 - val_loss: 0.6241 - val_categorical_accuracy: 0.7105\n",
      "Epoch 75/100\n",
      "357/357 [==============================] - 0s 1ms/step - loss: 0.6108 - categorical_accuracy: 0.7162 - val_loss: 0.6239 - val_categorical_accuracy: 0.7112\n",
      "Epoch 76/100\n",
      "357/357 [==============================] - 0s 1ms/step - loss: 0.6083 - categorical_accuracy: 0.7192 - val_loss: 0.6239 - val_categorical_accuracy: 0.7109\n",
      "Epoch 77/100\n",
      "357/357 [==============================] - 0s 1ms/step - loss: 0.6109 - categorical_accuracy: 0.7175 - val_loss: 0.6237 - val_categorical_accuracy: 0.7121\n",
      "Epoch 78/100\n",
      "357/357 [==============================] - 0s 1ms/step - loss: 0.6106 - categorical_accuracy: 0.7165 - val_loss: 0.6237 - val_categorical_accuracy: 0.7121\n",
      "Epoch 79/100\n",
      "357/357 [==============================] - 0s 1ms/step - loss: 0.6086 - categorical_accuracy: 0.7174 - val_loss: 0.6239 - val_categorical_accuracy: 0.7113\n",
      "Epoch 80/100\n",
      "357/357 [==============================] - 0s 1ms/step - loss: 0.6118 - categorical_accuracy: 0.7150 - val_loss: 0.6235 - val_categorical_accuracy: 0.7120\n",
      "Epoch 81/100\n",
      "357/357 [==============================] - 0s 1ms/step - loss: 0.6097 - categorical_accuracy: 0.7164 - val_loss: 0.6234 - val_categorical_accuracy: 0.7123\n",
      "Epoch 82/100\n",
      "357/357 [==============================] - 0s 1ms/step - loss: 0.6093 - categorical_accuracy: 0.7163 - val_loss: 0.6234 - val_categorical_accuracy: 0.7123\n",
      "Epoch 83/100\n",
      "357/357 [==============================] - 0s 1ms/step - loss: 0.6114 - categorical_accuracy: 0.7162 - val_loss: 0.6233 - val_categorical_accuracy: 0.7118\n",
      "Epoch 84/100\n",
      "357/357 [==============================] - 0s 1ms/step - loss: 0.6069 - categorical_accuracy: 0.7195 - val_loss: 0.6232 - val_categorical_accuracy: 0.7123\n",
      "Epoch 85/100\n",
      "357/357 [==============================] - 0s 1ms/step - loss: 0.6076 - categorical_accuracy: 0.7182 - val_loss: 0.6233 - val_categorical_accuracy: 0.7122\n",
      "Epoch 86/100\n",
      "357/357 [==============================] - 0s 1ms/step - loss: 0.6102 - categorical_accuracy: 0.7177 - val_loss: 0.6232 - val_categorical_accuracy: 0.7115\n",
      "Epoch 87/100\n",
      "357/357 [==============================] - 0s 1ms/step - loss: 0.6066 - categorical_accuracy: 0.7181 - val_loss: 0.6231 - val_categorical_accuracy: 0.7118\n",
      "Epoch 88/100\n",
      "357/357 [==============================] - 0s 1ms/step - loss: 0.6082 - categorical_accuracy: 0.7176 - val_loss: 0.6231 - val_categorical_accuracy: 0.7117\n",
      "Epoch 89/100\n",
      "357/357 [==============================] - 0s 1ms/step - loss: 0.6085 - categorical_accuracy: 0.7173 - val_loss: 0.6230 - val_categorical_accuracy: 0.7121\n",
      "Epoch 90/100\n",
      "357/357 [==============================] - 0s 1ms/step - loss: 0.6066 - categorical_accuracy: 0.7173 - val_loss: 0.6229 - val_categorical_accuracy: 0.7116\n",
      "Epoch 91/100\n",
      "357/357 [==============================] - 0s 1ms/step - loss: 0.6117 - categorical_accuracy: 0.7152 - val_loss: 0.6229 - val_categorical_accuracy: 0.7121\n",
      "Epoch 92/100\n",
      "357/357 [==============================] - 0s 1ms/step - loss: 0.6107 - categorical_accuracy: 0.7155 - val_loss: 0.6229 - val_categorical_accuracy: 0.7122\n",
      "Epoch 93/100\n",
      "357/357 [==============================] - 0s 1ms/step - loss: 0.6080 - categorical_accuracy: 0.7174 - val_loss: 0.6227 - val_categorical_accuracy: 0.7118\n",
      "Epoch 94/100\n",
      "357/357 [==============================] - 0s 1ms/step - loss: 0.6090 - categorical_accuracy: 0.7162 - val_loss: 0.6227 - val_categorical_accuracy: 0.7121\n",
      "Epoch 95/100\n",
      "357/357 [==============================] - 1s 2ms/step - loss: 0.6070 - categorical_accuracy: 0.7177 - val_loss: 0.6226 - val_categorical_accuracy: 0.7123\n",
      "Epoch 96/100\n",
      "357/357 [==============================] - 0s 1ms/step - loss: 0.6062 - categorical_accuracy: 0.7188 - val_loss: 0.6224 - val_categorical_accuracy: 0.7126\n",
      "Epoch 97/100\n",
      "357/357 [==============================] - 0s 1ms/step - loss: 0.6039 - categorical_accuracy: 0.7193 - val_loss: 0.6224 - val_categorical_accuracy: 0.7122\n",
      "Epoch 98/100\n",
      "357/357 [==============================] - 0s 1ms/step - loss: 0.6089 - categorical_accuracy: 0.7157 - val_loss: 0.6224 - val_categorical_accuracy: 0.7125\n",
      "Epoch 99/100\n",
      "357/357 [==============================] - 0s 1ms/step - loss: 0.6090 - categorical_accuracy: 0.7162 - val_loss: 0.6223 - val_categorical_accuracy: 0.7123\n",
      "Epoch 100/100\n",
      "357/357 [==============================] - 0s 1ms/step - loss: 0.6068 - categorical_accuracy: 0.7170 - val_loss: 0.6224 - val_categorical_accuracy: 0.7123\n"
     ]
    }
   ],
   "source": [
    "import tensorflow as tf\n",
    "from tensorflow.keras.models import Model\n",
    "from tensorflow.keras.layers import Input,Dense, Embedding\n",
    "\n",
    "checkpoint_filepath = '/tmp/saved_models'\n",
    "model_checkpoint_callback = tf.keras.callbacks.ModelCheckpoint(\n",
    "    filepath=checkpoint_filepath,\n",
    "    save_weights_only=True,\n",
    "    monitor='val_categorical_accuracy',\n",
    "    mode='max',\n",
    "    save_best_only=True)\n",
    "\n",
    "## Creating the layers\n",
    "batch_size = 512\n",
    "input = Input(shape=(13,)) \n",
    "embedding0 = Embedding(31, 2)(input[:,0]) # geo id 1\n",
    "embedding1 = Embedding(1428, 2)(input[:,1]) # geo id 2\n",
    "embedding2 = Embedding(4, 2)(input[:,2]) # position\n",
    "embedding3 = Embedding(5, 2)(input[:,3]) # foundation type\n",
    "embedding4 = Embedding(3, 2)(input[:,4]) # roof type\n",
    "embedding5 = Embedding(5, 2)(input[:,5]) # ground floor type\n",
    "embedding6 = Embedding(4, 2)(input[:,6]) # other floor type\n",
    "embedding7 = Embedding(10, 3)(input[:,7]) # plan configuration\n",
    "embedding7 = Embedding(4, 2)(input[:,8]) # legal ownership status\n",
    "Layer_1 = Dense(20, activation=\"relu\")(tf.concat([embedding0,embedding1,embedding2,embedding3,embedding4,embedding5,embedding6, embedding7,input[:,9:]], 1))\n",
    "Layer_2 = Dense(15, activation=\"relu\")(Layer_1)\n",
    "Layer_3 = Dense(10, activation=\"relu\")(Layer_2)\n",
    "output_layer= Dense(3, activation=\"softmax\")(Layer_3)\n",
    "\n",
    "model = tf.keras.Model(inputs=input, outputs=output_layer, name=\"emb_model\")\n",
    "opt = tf.keras.optimizers.Adam(learning_rate=0.0001)\n",
    "model.compile(optimizer=opt, loss='CategoricalCrossentropy', metrics=['CategoricalAccuracy'])\n",
    "history = model.fit(X_train, y_train, epochs=100, batch_size=batch_size, validation_data=(X_val, y_val), callbacks=[model_checkpoint_callback])"
   ]
  },
  {
   "cell_type": "code",
   "execution_count": 214,
   "metadata": {},
   "outputs": [
    {
     "data": {
      "image/png": "[encoded data removed]",
      "text/plain": [
       "<Figure size 1080x504 with 1 Axes>"
      ]
     },
     "metadata": {
      "needs_background": "light"
     },
     "output_type": "display_data"
    },
    {
     "name": "stdout",
     "output_type": "stream",
     "text": [
      "[15.0, 7.0]\n"
     ]
    }
   ],
   "source": [
    "import matplotlib.pyplot as plt\n",
    "\n",
    "# increase the size of the graphs. The default size is (6,4).\n",
    "plt.rcParams[\"figure.figsize\"] = (15,7)\n",
    "\n",
    "# graph the loss, the model above is configure to use \"mean squared error\" as the loss function\n",
    "loss = history.history['loss']\n",
    "val_loss = history.history['val_loss']\n",
    "epochs = range(1, len(loss) + 1)\n",
    "plt.plot(epochs, loss, 'g.', label='Training loss')\n",
    "plt.plot(epochs, val_loss, 'b', label='Validation loss')\n",
    "plt.title('Training and validation loss')\n",
    "plt.xlabel('Epochs')\n",
    "plt.ylabel('Loss')\n",
    "plt.legend()\n",
    "plt.show()\n",
    "\n",
    "print(plt.rcParams[\"figure.figsize\"])"
   ]
  },
  {
   "cell_type": "code",
   "execution_count": 215,
   "metadata": {},
   "outputs": [
    {
     "data": {
      "text/plain": [
       "0.7123049373241238"
      ]
     },
     "execution_count": 215,
     "metadata": {},
     "output_type": "execute_result"
    }
   ],
   "source": [
    "predictions = model.predict(X_val)\n",
    "from sklearn.metrics import confusion_matrix, f1_score\n",
    "import seaborn as sns\n",
    "predictions = model.predict(X_val)\n",
    "y_pred = []\n",
    "y_true = []\n",
    "for i,row in enumerate(predictions):\n",
    "  y_pred.append(np.argmax(row))\n",
    "  y_true.append(np.argmax(y_val[i]))\n",
    "\n",
    "f1_score(y_true, y_pred, average = 'micro')"
   ]
  },
  {
   "cell_type": "code",
   "execution_count": 216,
   "metadata": {},
   "outputs": [
    {
     "data": {
      "text/plain": [
       "0.7132843877107262"
      ]
     },
     "execution_count": 216,
     "metadata": {},
     "output_type": "execute_result"
    }
   ],
   "source": [
    "predictions = model.predict(X_val)\n",
    "from sklearn.metrics import confusion_matrix, f1_score\n",
    "import seaborn as sns\n",
    "predictions = model.predict(X_test)\n",
    "y_pred = []\n",
    "y_true = []\n",
    "for i,row in enumerate(predictions):\n",
    "  y_pred.append(np.argmax(row))\n",
    "  y_true.append(np.argmax(y_test[i]))\n",
    "\n",
    "f1_score(y_true, y_pred, average = 'micro')"
   ]
  },
  {
   "cell_type": "code",
   "execution_count": 197,
   "metadata": {},
   "outputs": [],
   "source": [
    "test_vals_df = pd.read_csv(\"../data/test_values.csv\")\n",
    "# get categorical data\n",
    "X1 = test_vals_df[[\"geo_level_1_id\", \"geo_level_2_id\", \"position\", \"foundation_type\", \"roof_type\", \"ground_floor_type\", \"other_floor_type\", \"plan_configuration\", \"legal_ownership_status\"]].to_numpy()\n",
    "enc = OrdinalEncoder()\n",
    "enc.fit(X1)\n",
    "X1 = enc.transform(X1)\n",
    "## get numerical data\n",
    "df = test_vals_df[[\n",
    "'count_floors_pre_eq',\n",
    "'age',\n",
    "'area_percentage',\n",
    "'height_percentage']]\n",
    "\n",
    "# normalize numerical data\n",
    "min_max_scaler = preprocessing.MinMaxScaler()\n",
    "X2 = min_max_scaler.fit_transform(df.values)\n",
    "\n",
    "\n",
    "\n",
    "X_test = np.concatenate((X1,X2), axis = 1)\n",
    "\n",
    "predictions = model.predict(X_test)\n",
    "y_pred = []\n",
    "for i,row in enumerate(predictions):\n",
    "  y_pred.append(np.argmax(row) + 1)\n",
    "\n",
    "\n",
    "submission = pd.DataFrame()\n",
    "submission[\"building_id\"] = test_vals_df[\"building_id\"]\n",
    "submission[\"damage_grade\"] = y_pred\n",
    "submission\n",
    "submission.to_csv(\"embedding_model2.csv\", index=False)"
   ]
  },
  {
   "cell_type": "code",
   "execution_count": null,
   "metadata": {},
   "outputs": [],
   "source": []
  }
 ],
 "metadata": {
  "interpreter": {
   "hash": "c0d8e833406122a0f0152c7188f502beb6f3d00c0d6e5eedffe2e2ee812b07e7"
  },
  "kernelspec": {
   "display_name": "Python 3.8.12 64-bit ('elmoAR': conda)",
   "name": "python3"
  },
  "language_info": {
   "codemirror_mode": {
    "name": "ipython",
    "version": 3
   },
   "file_extension": ".py",
   "mimetype": "text/x-python",
   "name": "python",
   "nbconvert_exporter": "python",
   "pygments_lexer": "ipython3",
   "version": "3.8.12"
  },
  "orig_nbformat": 4
 },
 "nbformat": 4,
 "nbformat_minor": 2
}

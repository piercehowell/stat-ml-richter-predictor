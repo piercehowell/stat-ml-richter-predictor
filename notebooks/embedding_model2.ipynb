{
 "cells": [
  {
   "cell_type": "code",
   "execution_count": 5,
   "metadata": {},
   "outputs": [],
   "source": [
    "import pandas as pd\n",
    "import numpy as np\n",
    "import os\n",
    "from sklearn import preprocessing \n",
    "from sklearn.preprocessing import OneHotEncoder, OrdinalEncoder\n",
    "import tensorflow as tf\n",
    "\n",
    "data_dir = \"../data/\"\n",
    "train_vals_df = pd.read_csv(os.path.join(data_dir, \"train_values.csv\"))\n",
    "train_labels_df = pd.read_csv(os.path.join(data_dir, \"train_labels.csv\"))\n",
    "\n",
    "# get categorical data\n",
    "X1 = train_vals_df[[\"geo_level_1_id\", \"geo_level_2_id\", \"position\", \"foundation_type\", \"roof_type\", \"ground_floor_type\", \"other_floor_type\", \"plan_configuration\", \"legal_ownership_status\"]].to_numpy()\n",
    "\n",
    "enc = OrdinalEncoder()\n",
    "enc.fit(X1)\n",
    "X1 = enc.transform(X1)\n",
    "\n",
    "## get numerical data\n",
    "df = train_vals_df[[\n",
    "'count_floors_pre_eq',\n",
    "'age',\n",
    "'area_percentage',\n",
    "'height_percentage']]\n",
    "\n",
    "# normalize numerical data\n",
    "min_max_scaler = preprocessing.MinMaxScaler()\n",
    "X2 = min_max_scaler.fit_transform(df.values)\n",
    "\n",
    "\n",
    "# get labels\n",
    "\n",
    "y = train_labels_df[\"damage_grade\"].to_numpy()\n",
    "y = np.eye(3)[y-1]\n",
    "\n",
    "X = np.concatenate((X1,X2), axis = 1)\n",
    "# X = np.asarray(X).astype('float32')"
   ]
  },
  {
   "cell_type": "markdown",
   "metadata": {},
   "source": []
  },
  {
   "cell_type": "code",
   "execution_count": 6,
   "metadata": {},
   "outputs": [
    {
     "data": {
      "text/plain": [
       "Index(['building_id', 'geo_level_1_id', 'geo_level_2_id', 'geo_level_3_id',\n",
       "       'count_floors_pre_eq', 'age', 'area_percentage', 'height_percentage',\n",
       "       'land_surface_condition', 'foundation_type', 'roof_type',\n",
       "       'ground_floor_type', 'other_floor_type', 'position',\n",
       "       'plan_configuration', 'has_superstructure_adobe_mud',\n",
       "       'has_superstructure_mud_mortar_stone', 'has_superstructure_stone_flag',\n",
       "       'has_superstructure_cement_mortar_stone',\n",
       "       'has_superstructure_mud_mortar_brick',\n",
       "       'has_superstructure_cement_mortar_brick', 'has_superstructure_timber',\n",
       "       'has_superstructure_bamboo', 'has_superstructure_rc_non_engineered',\n",
       "       'has_superstructure_rc_engineered', 'has_superstructure_other',\n",
       "       'legal_ownership_status', 'count_families', 'has_secondary_use',\n",
       "       'has_secondary_use_agriculture', 'has_secondary_use_hotel',\n",
       "       'has_secondary_use_rental', 'has_secondary_use_institution',\n",
       "       'has_secondary_use_school', 'has_secondary_use_industry',\n",
       "       'has_secondary_use_health_post', 'has_secondary_use_gov_office',\n",
       "       'has_secondary_use_use_police', 'has_secondary_use_other'],\n",
       "      dtype='object')"
      ]
     },
     "execution_count": 6,
     "metadata": {},
     "output_type": "execute_result"
    }
   ],
   "source": [
    "train_vals_df = pd.read_csv(os.path.join(data_dir, \"train_values.csv\"))\n",
    "train_vals_df.columns\n",
    "# train_labels_df = pd.read_csv(os.path.join(data_dir, \"train_labels.csv\"))"
   ]
  },
  {
   "cell_type": "code",
   "execution_count": 207,
   "metadata": {},
   "outputs": [
    {
     "data": {
      "text/plain": [
       "array(['a', 'r', 'v', 'w'], dtype=object)"
      ]
     },
     "execution_count": 207,
     "metadata": {},
     "output_type": "execute_result"
    }
   ],
   "source": [
    "np.unique(train_vals_df[\"legal_ownership_status\"])"
   ]
  },
  {
   "cell_type": "markdown",
   "metadata": {},
   "source": [
    "## Train val test split\n",
    "### X1 is categorical data and X2 is numerical data"
   ]
  },
  {
   "cell_type": "code",
   "execution_count": 21,
   "metadata": {},
   "outputs": [],
   "source": [
    "rng = np.random.RandomState(7)\n",
    "perm = rng.permutation(range(len(X)))\n",
    "X_rand = X[perm]\n",
    "y_rand = y[perm]\n",
    "\n",
    "trainIdx = int(.7*len(X))\n",
    "valIdx = int(.85*len(X))\n",
    "X_train = X[:trainIdx]\n",
    "y_train = y[:trainIdx]\n",
    "X_val = X[trainIdx:valIdx]\n",
    "y_val = y[trainIdx:valIdx]\n",
    "X_test = X[valIdx:]\n",
    "y_test = y[valIdx:]"
   ]
  },
  {
   "cell_type": "code",
   "execution_count": 26,
   "metadata": {},
   "outputs": [
    {
     "data": {
      "text/plain": [
       "(39091, 3)"
      ]
     },
     "execution_count": 26,
     "metadata": {},
     "output_type": "execute_result"
    }
   ],
   "source": [
    "y_test.shape"
   ]
  },
  {
   "cell_type": "code",
   "execution_count": 8,
   "metadata": {},
   "outputs": [],
   "source": [
    "checkpoint_filepath = '/tmp/checkpoint'\n",
    "model_checkpoint_callback = tf.keras.callbacks.ModelCheckpoint(\n",
    "    filepath=checkpoint_filepath,\n",
    "    save_weights_only=True,\n",
    "    monitor='val_accuracy',\n",
    "    mode='max',\n",
    "    save_best_only=True)"
   ]
  },
  {
   "cell_type": "markdown",
   "metadata": {},
   "source": [
    "## Create model that embeds categorical data (each location separately)"
   ]
  },
  {
   "cell_type": "code",
   "execution_count": 211,
   "metadata": {},
   "outputs": [],
   "source": [
    "## This model achieves .7037 micro F1\n",
    "import tensorflow as tf\n",
    "from tensorflow.keras.models import Model\n",
    "from tensorflow.keras.layers import Input,Dense, Embedding\n",
    "\n",
    "# checkpoint_filepath = '/tmp/saved_models'\n",
    "# model_checkpoint_callback = tf.keras.callbacks.ModelCheckpoint(\n",
    "#     filepath=checkpoint_filepath,\n",
    "#     save_weights_only=True,\n",
    "#     monitor='val_categorical_accuracy',\n",
    "#     mode='max',\n",
    "#     save_best_only=True)\n",
    "\n",
    "# ## Creating the layers\n",
    "# batch_size = 100\n",
    "# input = Input(shape=(8,)) \n",
    "# embedding0 = Embedding(31, 2)(input[:,0]) # geo id 1\n",
    "# embedding1 = Embedding(1428, 2)(input[:,1]) # geo id 2\n",
    "# embedding2 = Embedding(4, 2)(input[:,2]) # position\n",
    "# embedding3 = Embedding(5, 2)(input[:,3]) # foundation type\n",
    "# Layer_1 = Dense(10, activation=\"relu\")(tf.concat([embedding0,embedding1,embedding2,embedding3,input[:,4:]], 1))\n",
    "# Layer_2 = Dense(5, activation=\"relu\")(Layer_1)\n",
    "# output_layer= Dense(3, activation=\"softmax\")(Layer_2)\n",
    "\n",
    "# model = tf.keras.Model(inputs=input, outputs=output_layer, name=\"emb_model\")\n",
    "# opt = tf.keras.optimizers.Adam(learning_rate=0.0001)\n",
    "# model.compile(optimizer=opt, loss='CategoricalCrossentropy', metrics=['CategoricalAccuracy'])\n",
    "# history = model.fit(X_train, y_train, epochs=25, batch_size=batch_size, validation_data=(X_val, y_val), callbacks=[model_checkpoint_callback])"
   ]
  },
  {
   "cell_type": "code",
   "execution_count": 14,
   "metadata": {},
   "outputs": [
    {
     "name": "stdout",
     "output_type": "stream",
     "text": [
      "Epoch 1/100\n",
      "357/357 [==============================] - 1s 2ms/step - loss: 0.9196 - categorical_accuracy: 0.5698 - val_loss: 0.9030 - val_categorical_accuracy: 0.5672\n",
      "Epoch 2/100\n",
      "357/357 [==============================] - 0s 1ms/step - loss: 0.8971 - categorical_accuracy: 0.5680 - val_loss: 0.8798 - val_categorical_accuracy: 0.5672\n",
      "Epoch 3/100\n",
      "357/357 [==============================] - 0s 1ms/step - loss: 0.8712 - categorical_accuracy: 0.5689 - val_loss: 0.8489 - val_categorical_accuracy: 0.5672\n",
      "Epoch 4/100\n",
      "357/357 [==============================] - 0s 1ms/step - loss: 0.8361 - categorical_accuracy: 0.5719 - val_loss: 0.7967 - val_categorical_accuracy: 0.5923\n",
      "Epoch 5/100\n",
      "357/357 [==============================] - 0s 1ms/step - loss: 0.7812 - categorical_accuracy: 0.6119 - val_loss: 0.7353 - val_categorical_accuracy: 0.6572\n",
      "Epoch 6/100\n",
      "357/357 [==============================] - 0s 1ms/step - loss: 0.7245 - categorical_accuracy: 0.6617 - val_loss: 0.7033 - val_categorical_accuracy: 0.6736\n",
      "Epoch 7/100\n",
      "357/357 [==============================] - 0s 1ms/step - loss: 0.6949 - categorical_accuracy: 0.6796 - val_loss: 0.6843 - val_categorical_accuracy: 0.6861\n",
      "Epoch 8/100\n",
      "357/357 [==============================] - 0s 1ms/step - loss: 0.6747 - categorical_accuracy: 0.6918 - val_loss: 0.6710 - val_categorical_accuracy: 0.6938\n",
      "Epoch 9/100\n",
      "357/357 [==============================] - 0s 1ms/step - loss: 0.6645 - categorical_accuracy: 0.6964 - val_loss: 0.6616 - val_categorical_accuracy: 0.6992\n",
      "Epoch 10/100\n",
      "357/357 [==============================] - 0s 1ms/step - loss: 0.6543 - categorical_accuracy: 0.7034 - val_loss: 0.6548 - val_categorical_accuracy: 0.7019\n",
      "Epoch 11/100\n",
      "357/357 [==============================] - 0s 1ms/step - loss: 0.6491 - categorical_accuracy: 0.7039 - val_loss: 0.6503 - val_categorical_accuracy: 0.7039\n",
      "Epoch 12/100\n",
      "357/357 [==============================] - 0s 1ms/step - loss: 0.6433 - categorical_accuracy: 0.7071 - val_loss: 0.6472 - val_categorical_accuracy: 0.7046\n",
      "Epoch 13/100\n",
      "357/357 [==============================] - 0s 1ms/step - loss: 0.6422 - categorical_accuracy: 0.7060 - val_loss: 0.6444 - val_categorical_accuracy: 0.7050\n",
      "Epoch 14/100\n",
      "357/357 [==============================] - 0s 1ms/step - loss: 0.6352 - categorical_accuracy: 0.7101 - val_loss: 0.6424 - val_categorical_accuracy: 0.7062\n",
      "Epoch 15/100\n",
      "357/357 [==============================] - 0s 1ms/step - loss: 0.6335 - categorical_accuracy: 0.7106 - val_loss: 0.6409 - val_categorical_accuracy: 0.7071\n",
      "Epoch 16/100\n",
      "357/357 [==============================] - 0s 1ms/step - loss: 0.6306 - categorical_accuracy: 0.7109 - val_loss: 0.6396 - val_categorical_accuracy: 0.7074\n",
      "Epoch 17/100\n",
      "357/357 [==============================] - 0s 1ms/step - loss: 0.6278 - categorical_accuracy: 0.7141 - val_loss: 0.6386 - val_categorical_accuracy: 0.7074\n",
      "Epoch 18/100\n",
      "357/357 [==============================] - 0s 1ms/step - loss: 0.6310 - categorical_accuracy: 0.7107 - val_loss: 0.6380 - val_categorical_accuracy: 0.7081\n",
      "Epoch 19/100\n",
      "357/357 [==============================] - 0s 1ms/step - loss: 0.6251 - categorical_accuracy: 0.7120 - val_loss: 0.6371 - val_categorical_accuracy: 0.7075\n",
      "Epoch 20/100\n",
      "357/357 [==============================] - 0s 1ms/step - loss: 0.6261 - categorical_accuracy: 0.7126 - val_loss: 0.6365 - val_categorical_accuracy: 0.7081\n",
      "Epoch 21/100\n",
      "357/357 [==============================] - 0s 1ms/step - loss: 0.6284 - categorical_accuracy: 0.7096 - val_loss: 0.6362 - val_categorical_accuracy: 0.7081\n",
      "Epoch 22/100\n",
      "357/357 [==============================] - 0s 1ms/step - loss: 0.6245 - categorical_accuracy: 0.7123 - val_loss: 0.6353 - val_categorical_accuracy: 0.7080\n",
      "Epoch 23/100\n",
      "357/357 [==============================] - 0s 1ms/step - loss: 0.6252 - categorical_accuracy: 0.7136 - val_loss: 0.6349 - val_categorical_accuracy: 0.7081\n",
      "Epoch 24/100\n",
      "357/357 [==============================] - 0s 1ms/step - loss: 0.6216 - categorical_accuracy: 0.7146 - val_loss: 0.6345 - val_categorical_accuracy: 0.7080\n",
      "Epoch 25/100\n",
      "357/357 [==============================] - 0s 1ms/step - loss: 0.6258 - categorical_accuracy: 0.7131 - val_loss: 0.6341 - val_categorical_accuracy: 0.7085\n",
      "Epoch 26/100\n",
      "357/357 [==============================] - 0s 1ms/step - loss: 0.6247 - categorical_accuracy: 0.7115 - val_loss: 0.6338 - val_categorical_accuracy: 0.7086\n",
      "Epoch 27/100\n",
      "357/357 [==============================] - 0s 1ms/step - loss: 0.6243 - categorical_accuracy: 0.7122 - val_loss: 0.6336 - val_categorical_accuracy: 0.7089\n",
      "Epoch 28/100\n",
      "357/357 [==============================] - 0s 1ms/step - loss: 0.6230 - categorical_accuracy: 0.7116 - val_loss: 0.6333 - val_categorical_accuracy: 0.7092\n",
      "Epoch 29/100\n",
      "357/357 [==============================] - 0s 1ms/step - loss: 0.6215 - categorical_accuracy: 0.7137 - val_loss: 0.6331 - val_categorical_accuracy: 0.7095\n",
      "Epoch 30/100\n",
      "357/357 [==============================] - 0s 1ms/step - loss: 0.6232 - categorical_accuracy: 0.7114 - val_loss: 0.6329 - val_categorical_accuracy: 0.7099\n",
      "Epoch 31/100\n",
      "357/357 [==============================] - 0s 1ms/step - loss: 0.6228 - categorical_accuracy: 0.7121 - val_loss: 0.6326 - val_categorical_accuracy: 0.7098\n",
      "Epoch 32/100\n",
      "357/357 [==============================] - 0s 1ms/step - loss: 0.6226 - categorical_accuracy: 0.7121 - val_loss: 0.6325 - val_categorical_accuracy: 0.7093\n",
      "Epoch 33/100\n",
      "357/357 [==============================] - 0s 1ms/step - loss: 0.6207 - categorical_accuracy: 0.7131 - val_loss: 0.6324 - val_categorical_accuracy: 0.7088\n",
      "Epoch 34/100\n",
      "357/357 [==============================] - 0s 1ms/step - loss: 0.6201 - categorical_accuracy: 0.7136 - val_loss: 0.6323 - val_categorical_accuracy: 0.7089\n",
      "Epoch 35/100\n",
      "357/357 [==============================] - 0s 1ms/step - loss: 0.6196 - categorical_accuracy: 0.7152 - val_loss: 0.6320 - val_categorical_accuracy: 0.7099\n",
      "Epoch 36/100\n",
      "357/357 [==============================] - 0s 1ms/step - loss: 0.6232 - categorical_accuracy: 0.7108 - val_loss: 0.6320 - val_categorical_accuracy: 0.7098\n",
      "Epoch 37/100\n",
      "357/357 [==============================] - 0s 1ms/step - loss: 0.6231 - categorical_accuracy: 0.7116 - val_loss: 0.6318 - val_categorical_accuracy: 0.7095\n",
      "Epoch 38/100\n",
      "357/357 [==============================] - 0s 1ms/step - loss: 0.6165 - categorical_accuracy: 0.7154 - val_loss: 0.6320 - val_categorical_accuracy: 0.7090\n",
      "Epoch 39/100\n",
      "357/357 [==============================] - 0s 1ms/step - loss: 0.6202 - categorical_accuracy: 0.7144 - val_loss: 0.6317 - val_categorical_accuracy: 0.7093\n",
      "Epoch 40/100\n",
      "357/357 [==============================] - 0s 1ms/step - loss: 0.6151 - categorical_accuracy: 0.7154 - val_loss: 0.6318 - val_categorical_accuracy: 0.7092\n",
      "Epoch 41/100\n",
      "357/357 [==============================] - 0s 1ms/step - loss: 0.6213 - categorical_accuracy: 0.7115 - val_loss: 0.6315 - val_categorical_accuracy: 0.7095\n",
      "Epoch 42/100\n",
      "357/357 [==============================] - 0s 1ms/step - loss: 0.6165 - categorical_accuracy: 0.7149 - val_loss: 0.6315 - val_categorical_accuracy: 0.7090\n",
      "Epoch 43/100\n",
      "357/357 [==============================] - 0s 1ms/step - loss: 0.6193 - categorical_accuracy: 0.7146 - val_loss: 0.6316 - val_categorical_accuracy: 0.7084\n",
      "Epoch 44/100\n",
      "357/357 [==============================] - 0s 1ms/step - loss: 0.6163 - categorical_accuracy: 0.7149 - val_loss: 0.6312 - val_categorical_accuracy: 0.7089\n",
      "Epoch 45/100\n",
      "357/357 [==============================] - 0s 1ms/step - loss: 0.6192 - categorical_accuracy: 0.7141 - val_loss: 0.6312 - val_categorical_accuracy: 0.7090\n",
      "Epoch 46/100\n",
      "357/357 [==============================] - 0s 1ms/step - loss: 0.6215 - categorical_accuracy: 0.7121 - val_loss: 0.6314 - val_categorical_accuracy: 0.7098\n",
      "Epoch 47/100\n",
      "357/357 [==============================] - 0s 1ms/step - loss: 0.6203 - categorical_accuracy: 0.7126 - val_loss: 0.6312 - val_categorical_accuracy: 0.7091\n",
      "Epoch 48/100\n",
      "357/357 [==============================] - 0s 1ms/step - loss: 0.6210 - categorical_accuracy: 0.7117 - val_loss: 0.6312 - val_categorical_accuracy: 0.7097\n",
      "Epoch 49/100\n",
      "357/357 [==============================] - 0s 1ms/step - loss: 0.6166 - categorical_accuracy: 0.7141 - val_loss: 0.6311 - val_categorical_accuracy: 0.7089\n",
      "Epoch 50/100\n",
      "357/357 [==============================] - 0s 1ms/step - loss: 0.6156 - categorical_accuracy: 0.7137 - val_loss: 0.6312 - val_categorical_accuracy: 0.7099\n",
      "Epoch 51/100\n",
      "357/357 [==============================] - 0s 1ms/step - loss: 0.6196 - categorical_accuracy: 0.7135 - val_loss: 0.6309 - val_categorical_accuracy: 0.7096\n",
      "Epoch 52/100\n",
      "357/357 [==============================] - 0s 1ms/step - loss: 0.6170 - categorical_accuracy: 0.7139 - val_loss: 0.6311 - val_categorical_accuracy: 0.7092\n",
      "Epoch 53/100\n",
      "357/357 [==============================] - 0s 1ms/step - loss: 0.6189 - categorical_accuracy: 0.7123 - val_loss: 0.6308 - val_categorical_accuracy: 0.7093\n",
      "Epoch 54/100\n",
      "357/357 [==============================] - 0s 1ms/step - loss: 0.6169 - categorical_accuracy: 0.7150 - val_loss: 0.6309 - val_categorical_accuracy: 0.7100\n",
      "Epoch 55/100\n",
      "357/357 [==============================] - 0s 1ms/step - loss: 0.6158 - categorical_accuracy: 0.7146 - val_loss: 0.6309 - val_categorical_accuracy: 0.7097\n",
      "Epoch 56/100\n",
      "357/357 [==============================] - 0s 1ms/step - loss: 0.6167 - categorical_accuracy: 0.7144 - val_loss: 0.6308 - val_categorical_accuracy: 0.7092\n",
      "Epoch 57/100\n",
      "357/357 [==============================] - 0s 1ms/step - loss: 0.6153 - categorical_accuracy: 0.7168 - val_loss: 0.6309 - val_categorical_accuracy: 0.7101\n",
      "Epoch 58/100\n",
      "357/357 [==============================] - 0s 1ms/step - loss: 0.6187 - categorical_accuracy: 0.7150 - val_loss: 0.6306 - val_categorical_accuracy: 0.7101\n",
      "Epoch 59/100\n",
      "357/357 [==============================] - 0s 1ms/step - loss: 0.6177 - categorical_accuracy: 0.7128 - val_loss: 0.6307 - val_categorical_accuracy: 0.7096\n",
      "Epoch 60/100\n",
      "357/357 [==============================] - 0s 1ms/step - loss: 0.6175 - categorical_accuracy: 0.7139 - val_loss: 0.6308 - val_categorical_accuracy: 0.7101\n",
      "Epoch 61/100\n",
      "357/357 [==============================] - 0s 1ms/step - loss: 0.6180 - categorical_accuracy: 0.7139 - val_loss: 0.6307 - val_categorical_accuracy: 0.7100\n",
      "Epoch 62/100\n",
      "357/357 [==============================] - 0s 1ms/step - loss: 0.6137 - categorical_accuracy: 0.7165 - val_loss: 0.6304 - val_categorical_accuracy: 0.7099\n",
      "Epoch 63/100\n",
      "357/357 [==============================] - 0s 1ms/step - loss: 0.6160 - categorical_accuracy: 0.7149 - val_loss: 0.6304 - val_categorical_accuracy: 0.7096\n",
      "Epoch 64/100\n",
      "357/357 [==============================] - 0s 1ms/step - loss: 0.6166 - categorical_accuracy: 0.7141 - val_loss: 0.6304 - val_categorical_accuracy: 0.7098\n",
      "Epoch 65/100\n",
      "357/357 [==============================] - 0s 1ms/step - loss: 0.6172 - categorical_accuracy: 0.7135 - val_loss: 0.6305 - val_categorical_accuracy: 0.7107\n",
      "Epoch 66/100\n",
      "357/357 [==============================] - 0s 1ms/step - loss: 0.6167 - categorical_accuracy: 0.7141 - val_loss: 0.6304 - val_categorical_accuracy: 0.7096\n",
      "Epoch 67/100\n",
      "357/357 [==============================] - 0s 1ms/step - loss: 0.6181 - categorical_accuracy: 0.7130 - val_loss: 0.6304 - val_categorical_accuracy: 0.7106\n",
      "Epoch 68/100\n",
      "357/357 [==============================] - 0s 1ms/step - loss: 0.6181 - categorical_accuracy: 0.7138 - val_loss: 0.6303 - val_categorical_accuracy: 0.7101\n",
      "Epoch 69/100\n",
      "357/357 [==============================] - 0s 1ms/step - loss: 0.6172 - categorical_accuracy: 0.7138 - val_loss: 0.6305 - val_categorical_accuracy: 0.7108\n",
      "Epoch 70/100\n",
      "357/357 [==============================] - 0s 1ms/step - loss: 0.6172 - categorical_accuracy: 0.7138 - val_loss: 0.6303 - val_categorical_accuracy: 0.7108\n",
      "Epoch 71/100\n",
      "357/357 [==============================] - 0s 1ms/step - loss: 0.6156 - categorical_accuracy: 0.7146 - val_loss: 0.6304 - val_categorical_accuracy: 0.7110\n",
      "Epoch 72/100\n",
      "357/357 [==============================] - 0s 1ms/step - loss: 0.6182 - categorical_accuracy: 0.7126 - val_loss: 0.6302 - val_categorical_accuracy: 0.7105\n",
      "Epoch 73/100\n",
      "357/357 [==============================] - 0s 1ms/step - loss: 0.6156 - categorical_accuracy: 0.7158 - val_loss: 0.6301 - val_categorical_accuracy: 0.7105\n",
      "Epoch 74/100\n",
      "357/357 [==============================] - 0s 1ms/step - loss: 0.6166 - categorical_accuracy: 0.7158 - val_loss: 0.6302 - val_categorical_accuracy: 0.7106\n",
      "Epoch 75/100\n",
      "357/357 [==============================] - 0s 1ms/step - loss: 0.6156 - categorical_accuracy: 0.7153 - val_loss: 0.6300 - val_categorical_accuracy: 0.7103\n",
      "Epoch 76/100\n",
      "357/357 [==============================] - 0s 1ms/step - loss: 0.6160 - categorical_accuracy: 0.7146 - val_loss: 0.6301 - val_categorical_accuracy: 0.7106\n",
      "Epoch 77/100\n",
      "357/357 [==============================] - 0s 1ms/step - loss: 0.6142 - categorical_accuracy: 0.7154 - val_loss: 0.6300 - val_categorical_accuracy: 0.7106\n",
      "Epoch 78/100\n",
      "357/357 [==============================] - 0s 1ms/step - loss: 0.6143 - categorical_accuracy: 0.7157 - val_loss: 0.6298 - val_categorical_accuracy: 0.7101\n",
      "Epoch 79/100\n",
      "357/357 [==============================] - 0s 1ms/step - loss: 0.6147 - categorical_accuracy: 0.7150 - val_loss: 0.6299 - val_categorical_accuracy: 0.7109\n",
      "Epoch 80/100\n",
      "357/357 [==============================] - 0s 1ms/step - loss: 0.6151 - categorical_accuracy: 0.7151 - val_loss: 0.6300 - val_categorical_accuracy: 0.7107\n",
      "Epoch 81/100\n",
      "357/357 [==============================] - 0s 1ms/step - loss: 0.6160 - categorical_accuracy: 0.7147 - val_loss: 0.6297 - val_categorical_accuracy: 0.7104\n",
      "Epoch 82/100\n",
      "357/357 [==============================] - 0s 1ms/step - loss: 0.6152 - categorical_accuracy: 0.7154 - val_loss: 0.6297 - val_categorical_accuracy: 0.7104\n",
      "Epoch 83/100\n",
      "357/357 [==============================] - 0s 1ms/step - loss: 0.6134 - categorical_accuracy: 0.7153 - val_loss: 0.6298 - val_categorical_accuracy: 0.7113\n",
      "Epoch 84/100\n",
      "357/357 [==============================] - 0s 1ms/step - loss: 0.6148 - categorical_accuracy: 0.7159 - val_loss: 0.6296 - val_categorical_accuracy: 0.7106\n",
      "Epoch 85/100\n",
      "357/357 [==============================] - 0s 1ms/step - loss: 0.6133 - categorical_accuracy: 0.7149 - val_loss: 0.6296 - val_categorical_accuracy: 0.7103\n",
      "Epoch 86/100\n",
      "357/357 [==============================] - 0s 1ms/step - loss: 0.6193 - categorical_accuracy: 0.7135 - val_loss: 0.6297 - val_categorical_accuracy: 0.7105\n",
      "Epoch 87/100\n",
      "357/357 [==============================] - 0s 1ms/step - loss: 0.6163 - categorical_accuracy: 0.7135 - val_loss: 0.6294 - val_categorical_accuracy: 0.7108\n",
      "Epoch 88/100\n",
      "357/357 [==============================] - 0s 1ms/step - loss: 0.6143 - categorical_accuracy: 0.7147 - val_loss: 0.6294 - val_categorical_accuracy: 0.7115\n",
      "Epoch 89/100\n",
      "357/357 [==============================] - 0s 1ms/step - loss: 0.6137 - categorical_accuracy: 0.7160 - val_loss: 0.6293 - val_categorical_accuracy: 0.7105\n",
      "Epoch 90/100\n",
      "357/357 [==============================] - 0s 1ms/step - loss: 0.6157 - categorical_accuracy: 0.7150 - val_loss: 0.6294 - val_categorical_accuracy: 0.7112\n",
      "Epoch 91/100\n",
      "357/357 [==============================] - 0s 1ms/step - loss: 0.6157 - categorical_accuracy: 0.7161 - val_loss: 0.6293 - val_categorical_accuracy: 0.7105\n",
      "Epoch 92/100\n",
      "357/357 [==============================] - 0s 1ms/step - loss: 0.6148 - categorical_accuracy: 0.7158 - val_loss: 0.6292 - val_categorical_accuracy: 0.7106\n",
      "Epoch 93/100\n",
      "357/357 [==============================] - 0s 1ms/step - loss: 0.6108 - categorical_accuracy: 0.7176 - val_loss: 0.6293 - val_categorical_accuracy: 0.7114\n",
      "Epoch 94/100\n",
      "357/357 [==============================] - 0s 1ms/step - loss: 0.6136 - categorical_accuracy: 0.7160 - val_loss: 0.6292 - val_categorical_accuracy: 0.7112\n",
      "Epoch 95/100\n",
      "357/357 [==============================] - 0s 1ms/step - loss: 0.6166 - categorical_accuracy: 0.7136 - val_loss: 0.6291 - val_categorical_accuracy: 0.7105\n",
      "Epoch 96/100\n",
      "357/357 [==============================] - 0s 1ms/step - loss: 0.6134 - categorical_accuracy: 0.7163 - val_loss: 0.6292 - val_categorical_accuracy: 0.7114\n",
      "Epoch 97/100\n",
      "357/357 [==============================] - 0s 1ms/step - loss: 0.6155 - categorical_accuracy: 0.7151 - val_loss: 0.6295 - val_categorical_accuracy: 0.7106\n",
      "Epoch 98/100\n",
      "357/357 [==============================] - 0s 1ms/step - loss: 0.6125 - categorical_accuracy: 0.7167 - val_loss: 0.6292 - val_categorical_accuracy: 0.7111\n",
      "Epoch 99/100\n",
      "357/357 [==============================] - 0s 1ms/step - loss: 0.6141 - categorical_accuracy: 0.7151 - val_loss: 0.6289 - val_categorical_accuracy: 0.7109\n",
      "Epoch 100/100\n",
      "357/357 [==============================] - 0s 1ms/step - loss: 0.6139 - categorical_accuracy: 0.7164 - val_loss: 0.6290 - val_categorical_accuracy: 0.7109\n"
     ]
    }
   ],
   "source": [
    "import tensorflow as tf\n",
    "from tensorflow.keras.models import Model\n",
    "from tensorflow.keras.layers import Input,Dense, Embedding\n",
    "\n",
    "checkpoint_filepath = '/tmp/saved_models'\n",
    "model_checkpoint_callback = tf.keras.callbacks.ModelCheckpoint(\n",
    "    filepath=checkpoint_filepath,\n",
    "    save_weights_only=True,\n",
    "    monitor='val_categorical_accuracy',\n",
    "    mode='max',\n",
    "    save_best_only=True)\n",
    "\n",
    "## Creating the layers\n",
    "batch_size = 512\n",
    "input = Input(shape=(13,)) \n",
    "embedding0 = Embedding(31, 2)(input[:,0]) # geo id 1\n",
    "embedding1 = Embedding(1428, 2)(input[:,1]) # geo id 2\n",
    "embedding2 = Embedding(4, 2)(input[:,2]) # position\n",
    "embedding3 = Embedding(5, 2)(input[:,3]) # foundation type\n",
    "embedding4 = Embedding(3, 2)(input[:,4]) # roof type\n",
    "# embedding5 = Embedding(5, 2)(input[:,5]) # ground floor type\n",
    "# embedding6 = Embedding(4, 2)(input[:,6]) # other floor type\n",
    "# embedding7 = Embedding(10, 3)(input[:,7]) # plan configuration\n",
    "# embedding8 = Embedding(4, 2)(input[:,8]) # legal ownership status\n",
    "# Layer_1 = Dense(20, activation=\"relu\")(tf.concat([embedding0,embedding1,embedding2,embedding3,embedding4,embedding5,embedding6, embedding7, embedding8, input[:,9:]], 1))\n",
    "Layer_1 = Dense(20, activation=\"relu\")(tf.concat([embedding0,embedding1,embedding2,embedding3,embedding4, input[:,5:]], 1))\n",
    "Layer_2 = Dense(15, activation=\"relu\")(Layer_1)\n",
    "Layer_3 = Dense(10, activation=\"relu\")(Layer_2)\n",
    "output_layer= Dense(3, activation=\"softmax\")(Layer_3)\n",
    "\n",
    "model = tf.keras.Model(inputs=input, outputs=output_layer, name=\"emb_model\")\n",
    "opt = tf.keras.optimizers.Adam(learning_rate=0.0001)\n",
    "model.compile(optimizer=opt, loss='CategoricalCrossentropy', metrics=['CategoricalAccuracy'])\n",
    "history = model.fit(X_train, y_train, epochs=100, batch_size=batch_size, validation_data=(X_val, y_val), callbacks=[model_checkpoint_callback])"
   ]
  },
  {
   "cell_type": "code",
   "execution_count": 15,
   "metadata": {},
   "outputs": [
    {
     "data": {
      "image/png": "[encoded data removed]",
      "text/plain": [
       "<Figure size 1080x504 with 1 Axes>"
      ]
     },
     "metadata": {
      "needs_background": "light"
     },
     "output_type": "display_data"
    },
    {
     "name": "stdout",
     "output_type": "stream",
     "text": [
      "[15.0, 7.0]\n"
     ]
    }
   ],
   "source": [
    "import matplotlib.pyplot as plt\n",
    "\n",
    "# increase the size of the graphs. The default size is (6,4).\n",
    "plt.rcParams[\"figure.figsize\"] = (15,7)\n",
    "\n",
    "# graph the loss, the model above is configure to use \"mean squared error\" as the loss function\n",
    "loss = history.history['loss']\n",
    "val_loss = history.history['val_loss']\n",
    "epochs = range(1, len(loss) + 1)\n",
    "plt.plot(epochs, loss, 'g.', label='Training loss')\n",
    "plt.plot(epochs, val_loss, 'b', label='Validation loss')\n",
    "plt.title('Training and validation loss')\n",
    "plt.xlabel('Epochs')\n",
    "plt.ylabel('Loss')\n",
    "plt.legend()\n",
    "plt.show()\n",
    "\n",
    "print(plt.rcParams[\"figure.figsize\"])"
   ]
  },
  {
   "cell_type": "code",
   "execution_count": 28,
   "metadata": {},
   "outputs": [
    {
     "data": {
      "text/plain": [
       "0.7108979278587874"
      ]
     },
     "execution_count": 28,
     "metadata": {},
     "output_type": "execute_result"
    }
   ],
   "source": [
    "predictions = model.predict(X_val)\n",
    "from sklearn.metrics import confusion_matrix, f1_score\n",
    "import seaborn as sns\n",
    "predictions = model.predict(X_val)\n",
    "y_pred = []\n",
    "y_true = []\n",
    "for i,row in enumerate(predictions):\n",
    "  y_pred.append(np.argmax(row))\n",
    "  y_true.append(np.argmax(y_val[i]))\n",
    "\n",
    "f1_score(y_true, y_pred, average = 'micro')"
   ]
  },
  {
   "cell_type": "code",
   "execution_count": 29,
   "metadata": {},
   "outputs": [
    {
     "data": {
      "text/plain": [
       "(39091, 13)"
      ]
     },
     "execution_count": 29,
     "metadata": {},
     "output_type": "execute_result"
    }
   ],
   "source": [
    "X_test.shape"
   ]
  },
  {
   "cell_type": "code",
   "execution_count": 30,
   "metadata": {},
   "outputs": [
    {
     "data": {
      "text/plain": [
       "(39091, 3)"
      ]
     },
     "execution_count": 30,
     "metadata": {},
     "output_type": "execute_result"
    }
   ],
   "source": [
    "y_test.shape"
   ]
  },
  {
   "cell_type": "code",
   "execution_count": 31,
   "metadata": {},
   "outputs": [
    {
     "data": {
      "text/plain": [
       "0.7093960246604077"
      ]
     },
     "execution_count": 31,
     "metadata": {},
     "output_type": "execute_result"
    }
   ],
   "source": [
    "from sklearn.metrics import confusion_matrix, f1_score\n",
    "import seaborn as sns\n",
    "predictions = model.predict(X_test)\n",
    "y_pred = []\n",
    "y_true = []\n",
    "for i,row in enumerate(predictions):\n",
    "  y_pred.append(np.argmax(row))\n",
    "  y_true.append(np.argmax(y_test[i]))\n",
    "\n",
    "f1_score(y_true, y_pred, average = 'micro')"
   ]
  },
  {
   "cell_type": "code",
   "execution_count": 32,
   "metadata": {},
   "outputs": [],
   "source": [
    "test_vals_df = pd.read_csv(\"../data/test_values.csv\")\n",
    "# get categorical data\n",
    "X1 = test_vals_df[[\"geo_level_1_id\", \"geo_level_2_id\", \"position\", \"foundation_type\", \"roof_type\", \"ground_floor_type\", \"other_floor_type\", \"plan_configuration\", \"legal_ownership_status\"]].to_numpy()\n",
    "enc = OrdinalEncoder()\n",
    "enc.fit(X1)\n",
    "X1 = enc.transform(X1)\n",
    "## get numerical data\n",
    "df = test_vals_df[[\n",
    "'count_floors_pre_eq',\n",
    "'age',\n",
    "'area_percentage',\n",
    "'height_percentage']]\n",
    "\n",
    "# normalize numerical data\n",
    "min_max_scaler = preprocessing.MinMaxScaler()\n",
    "X2 = min_max_scaler.fit_transform(df.values)\n",
    "\n",
    "\n",
    "\n",
    "X_test = np.concatenate((X1,X2), axis = 1)\n",
    "\n",
    "predictions = model.predict(X_test)\n",
    "y_pred = []\n",
    "for i,row in enumerate(predictions):\n",
    "  y_pred.append(np.argmax(row) + 1)\n",
    "\n",
    "\n",
    "submission = pd.DataFrame()\n",
    "submission[\"building_id\"] = test_vals_df[\"building_id\"]\n",
    "submission[\"damage_grade\"] = y_pred\n",
    "submission\n",
    "submission.to_csv(\"embedding_model2.csv\", index=False)"
   ]
  },
  {
   "cell_type": "code",
   "execution_count": null,
   "metadata": {},
   "outputs": [],
   "source": []
  }
 ],
 "metadata": {
  "interpreter": {
   "hash": "c0d8e833406122a0f0152c7188f502beb6f3d00c0d6e5eedffe2e2ee812b07e7"
  },
  "kernelspec": {
   "display_name": "Python 3.8.12 64-bit ('elmoAR': conda)",
   "name": "python3"
  },
  "language_info": {
   "codemirror_mode": {
    "name": "ipython",
    "version": 3
   },
   "file_extension": ".py",
   "mimetype": "text/x-python",
   "name": "python",
   "nbconvert_exporter": "python",
   "pygments_lexer": "ipython3",
   "version": "3.8.12"
  },
  "orig_nbformat": 4
 },
 "nbformat": 4,
 "nbformat_minor": 2
}

{
 "cells": [
  {
   "cell_type": "code",
   "execution_count": 9,
   "metadata": {},
   "outputs": [],
   "source": [
    "## old, remove\n",
    "import torch.nn as nn\n",
    "\n",
    "class EClassifier(nn.Module):\n",
    "    def __init__(self, num_locations, embedding_dim, num_classes):\n",
    "        super().__init__()\n",
    "        self.embedding = nn.Embedding(num_locations, embedding_dim)\n",
    "        self.linear = nn.Linear(embedding_dim, num_classes)\n",
    "    def forward(self, x):\n",
    "        # x is a tensor containing word ids\n",
    "        loc_emb = self.embedding(x[:,0])\n",
    "        return self.linear(torch.cat((loc_emb, x[:,1:]), 1))"
   ]
  },
  {
   "cell_type": "code",
   "execution_count": 66,
   "metadata": {},
   "outputs": [],
   "source": [
    "import pandas as pd\n",
    "import numpy as np\n",
    "import os\n",
    "from sklearn import preprocessing \n",
    "from sklearn.preprocessing import OneHotEncoder\n",
    "\n",
    "data_dir = \"../data/\"\n",
    "train_vals_df = pd.read_csv(os.path.join(data_dir, \"train_values.csv\"))\n",
    "train_labels_df = pd.read_csv(os.path.join(data_dir, \"train_labels.csv\"))\n",
    "\n",
    "# get categorical data\n",
    "X1 = train_vals_df[\"geo_level_1_id\"].to_numpy()\n",
    "\n",
    "## get numerical data\n",
    "df = train_vals_df[[\n",
    "'count_floors_pre_eq',\n",
    "'age',\n",
    "'area_percentage',\n",
    "'height_percentage']]\n",
    "\n",
    "# normalize numerical data\n",
    "min_max_scaler = preprocessing.MinMaxScaler()\n",
    "X2 = min_max_scaler.fit_transform(df.values)\n",
    "\n",
    "\n",
    "# get labels\n",
    "\n",
    "y = train_labels_df[\"damage_grade\"].to_numpy()\n",
    "y = np.eye(3)[y-1]\n",
    "\n",
    "X = np.concatenate((X1[:,np.newaxis],X2), axis = 1)"
   ]
  },
  {
   "cell_type": "markdown",
   "metadata": {},
   "source": [
    "## Train val test split\n",
    "### X1 is categorical data and X2 is numerical data"
   ]
  },
  {
   "cell_type": "code",
   "execution_count": 67,
   "metadata": {},
   "outputs": [],
   "source": [
    "rng = np.random.RandomState(1)\n",
    "perm = rng.permutation(range(len(X)))\n",
    "X_rand = X[perm]\n",
    "y_rand = y[perm]\n",
    "\n",
    "trainIdx = int(.8*len(X))\n",
    "X_train = X[:trainIdx]\n",
    "y_train = y[:trainIdx]\n",
    "X_val = X[trainIdx:]\n",
    "y_val = y[trainIdx:]\n"
   ]
  },
  {
   "cell_type": "markdown",
   "metadata": {},
   "source": [
    "## Create model that embeds categorical data"
   ]
  },
  {
   "cell_type": "code",
   "execution_count": 100,
   "metadata": {},
   "outputs": [
    {
     "name": "stdout",
     "output_type": "stream",
     "text": [
      "Epoch 1/50\n",
      "2085/2085 [==============================] - 1s 562us/step - loss: 0.8590 - categorical_accuracy: 0.6216 - val_loss: 0.7630 - val_categorical_accuracy: 0.6486\n",
      "Epoch 2/50\n",
      "2085/2085 [==============================] - 1s 498us/step - loss: 0.7578 - categorical_accuracy: 0.6492 - val_loss: 0.7502 - val_categorical_accuracy: 0.6521\n",
      "Epoch 3/50\n",
      "2085/2085 [==============================] - 1s 502us/step - loss: 0.7439 - categorical_accuracy: 0.6538 - val_loss: 0.7437 - val_categorical_accuracy: 0.6537\n",
      "Epoch 4/50\n",
      "2085/2085 [==============================] - 1s 500us/step - loss: 0.7399 - categorical_accuracy: 0.6540 - val_loss: 0.7393 - val_categorical_accuracy: 0.6551\n",
      "Epoch 5/50\n",
      "2085/2085 [==============================] - 1s 498us/step - loss: 0.7356 - categorical_accuracy: 0.6565 - val_loss: 0.7380 - val_categorical_accuracy: 0.6563\n",
      "Epoch 6/50\n",
      "2085/2085 [==============================] - 1s 502us/step - loss: 0.7356 - categorical_accuracy: 0.6551 - val_loss: 0.7368 - val_categorical_accuracy: 0.6559\n",
      "Epoch 7/50\n",
      "2085/2085 [==============================] - 1s 500us/step - loss: 0.7367 - categorical_accuracy: 0.6552 - val_loss: 0.7357 - val_categorical_accuracy: 0.6577\n",
      "Epoch 8/50\n",
      "2085/2085 [==============================] - 1s 508us/step - loss: 0.7346 - categorical_accuracy: 0.6559 - val_loss: 0.7370 - val_categorical_accuracy: 0.6563\n",
      "Epoch 9/50\n",
      "2085/2085 [==============================] - 1s 529us/step - loss: 0.7321 - categorical_accuracy: 0.6566 - val_loss: 0.7350 - val_categorical_accuracy: 0.6573\n",
      "Epoch 10/50\n",
      "2085/2085 [==============================] - 1s 498us/step - loss: 0.7324 - categorical_accuracy: 0.6568 - val_loss: 0.7354 - val_categorical_accuracy: 0.6564\n",
      "Epoch 11/50\n",
      "2085/2085 [==============================] - 1s 499us/step - loss: 0.7328 - categorical_accuracy: 0.6549 - val_loss: 0.7347 - val_categorical_accuracy: 0.6570\n",
      "Epoch 12/50\n",
      "2085/2085 [==============================] - 1s 499us/step - loss: 0.7317 - categorical_accuracy: 0.6574 - val_loss: 0.7340 - val_categorical_accuracy: 0.6577\n",
      "Epoch 13/50\n",
      "2085/2085 [==============================] - 1s 502us/step - loss: 0.7315 - categorical_accuracy: 0.6567 - val_loss: 0.7342 - val_categorical_accuracy: 0.6580\n",
      "Epoch 14/50\n",
      "2085/2085 [==============================] - 1s 528us/step - loss: 0.7330 - categorical_accuracy: 0.6567 - val_loss: 0.7343 - val_categorical_accuracy: 0.6589\n",
      "Epoch 15/50\n",
      "2085/2085 [==============================] - 1s 500us/step - loss: 0.7330 - categorical_accuracy: 0.6564 - val_loss: 0.7338 - val_categorical_accuracy: 0.6582\n",
      "Epoch 16/50\n",
      "2085/2085 [==============================] - 1s 499us/step - loss: 0.7321 - categorical_accuracy: 0.6567 - val_loss: 0.7352 - val_categorical_accuracy: 0.6572\n",
      "Epoch 17/50\n",
      "2085/2085 [==============================] - 1s 499us/step - loss: 0.7341 - categorical_accuracy: 0.6550 - val_loss: 0.7338 - val_categorical_accuracy: 0.6589\n",
      "Epoch 18/50\n",
      "2085/2085 [==============================] - 1s 501us/step - loss: 0.7326 - categorical_accuracy: 0.6560 - val_loss: 0.7339 - val_categorical_accuracy: 0.6577\n",
      "Epoch 19/50\n",
      "2085/2085 [==============================] - 1s 545us/step - loss: 0.7342 - categorical_accuracy: 0.6563 - val_loss: 0.7345 - val_categorical_accuracy: 0.6568\n",
      "Epoch 20/50\n",
      "2085/2085 [==============================] - 1s 564us/step - loss: 0.7316 - categorical_accuracy: 0.6561 - val_loss: 0.7341 - val_categorical_accuracy: 0.6593\n",
      "Epoch 21/50\n",
      "2085/2085 [==============================] - 1s 610us/step - loss: 0.7296 - categorical_accuracy: 0.6562 - val_loss: 0.7340 - val_categorical_accuracy: 0.6594\n",
      "Epoch 22/50\n",
      "2085/2085 [==============================] - 1s 587us/step - loss: 0.7326 - categorical_accuracy: 0.6582 - val_loss: 0.7335 - val_categorical_accuracy: 0.6582\n",
      "Epoch 23/50\n",
      "2085/2085 [==============================] - 1s 599us/step - loss: 0.7311 - categorical_accuracy: 0.6567 - val_loss: 0.7333 - val_categorical_accuracy: 0.6584\n",
      "Epoch 24/50\n",
      "2085/2085 [==============================] - 1s 568us/step - loss: 0.7320 - categorical_accuracy: 0.6577 - val_loss: 0.7351 - val_categorical_accuracy: 0.6586\n",
      "Epoch 25/50\n",
      "2085/2085 [==============================] - 1s 559us/step - loss: 0.7313 - categorical_accuracy: 0.6576 - val_loss: 0.7338 - val_categorical_accuracy: 0.6581\n",
      "Epoch 26/50\n",
      "2085/2085 [==============================] - 1s 529us/step - loss: 0.7331 - categorical_accuracy: 0.6556 - val_loss: 0.7334 - val_categorical_accuracy: 0.6582\n",
      "Epoch 27/50\n",
      "2085/2085 [==============================] - 1s 514us/step - loss: 0.7310 - categorical_accuracy: 0.6577 - val_loss: 0.7336 - val_categorical_accuracy: 0.6586\n",
      "Epoch 28/50\n",
      "2085/2085 [==============================] - 1s 519us/step - loss: 0.7316 - categorical_accuracy: 0.6578 - val_loss: 0.7335 - val_categorical_accuracy: 0.6585\n",
      "Epoch 29/50\n",
      "2085/2085 [==============================] - 1s 539us/step - loss: 0.7280 - categorical_accuracy: 0.6592 - val_loss: 0.7334 - val_categorical_accuracy: 0.6582\n",
      "Epoch 30/50\n",
      "2085/2085 [==============================] - 1s 529us/step - loss: 0.7303 - categorical_accuracy: 0.6574 - val_loss: 0.7328 - val_categorical_accuracy: 0.6580\n",
      "Epoch 31/50\n",
      "2085/2085 [==============================] - 1s 560us/step - loss: 0.7308 - categorical_accuracy: 0.6568 - val_loss: 0.7329 - val_categorical_accuracy: 0.6589\n",
      "Epoch 32/50\n",
      "2085/2085 [==============================] - 1s 514us/step - loss: 0.7336 - categorical_accuracy: 0.6541 - val_loss: 0.7331 - val_categorical_accuracy: 0.6585\n",
      "Epoch 33/50\n",
      "2085/2085 [==============================] - 1s 511us/step - loss: 0.7320 - categorical_accuracy: 0.6575 - val_loss: 0.7334 - val_categorical_accuracy: 0.6580\n",
      "Epoch 34/50\n",
      "2085/2085 [==============================] - 1s 509us/step - loss: 0.7327 - categorical_accuracy: 0.6570 - val_loss: 0.7327 - val_categorical_accuracy: 0.6591\n",
      "Epoch 35/50\n",
      "2085/2085 [==============================] - 1s 516us/step - loss: 0.7333 - categorical_accuracy: 0.6560 - val_loss: 0.7325 - val_categorical_accuracy: 0.6592\n",
      "Epoch 36/50\n",
      "2085/2085 [==============================] - 1s 612us/step - loss: 0.7300 - categorical_accuracy: 0.6580 - val_loss: 0.7326 - val_categorical_accuracy: 0.6584\n",
      "Epoch 37/50\n",
      "2085/2085 [==============================] - 1s 524us/step - loss: 0.7321 - categorical_accuracy: 0.6566 - val_loss: 0.7329 - val_categorical_accuracy: 0.6587\n",
      "Epoch 38/50\n",
      "2085/2085 [==============================] - 1s 508us/step - loss: 0.7299 - categorical_accuracy: 0.6582 - val_loss: 0.7337 - val_categorical_accuracy: 0.6578\n",
      "Epoch 39/50\n",
      "2085/2085 [==============================] - 1s 508us/step - loss: 0.7296 - categorical_accuracy: 0.6581 - val_loss: 0.7334 - val_categorical_accuracy: 0.6566\n",
      "Epoch 40/50\n",
      "2085/2085 [==============================] - 1s 615us/step - loss: 0.7305 - categorical_accuracy: 0.6579 - val_loss: 0.7327 - val_categorical_accuracy: 0.6595\n",
      "Epoch 41/50\n",
      "2085/2085 [==============================] - 1s 509us/step - loss: 0.7280 - categorical_accuracy: 0.6592 - val_loss: 0.7330 - val_categorical_accuracy: 0.6582\n",
      "Epoch 42/50\n",
      "2085/2085 [==============================] - 1s 537us/step - loss: 0.7314 - categorical_accuracy: 0.6572 - val_loss: 0.7330 - val_categorical_accuracy: 0.6580\n",
      "Epoch 43/50\n",
      "2085/2085 [==============================] - 1s 519us/step - loss: 0.7298 - categorical_accuracy: 0.6581 - val_loss: 0.7319 - val_categorical_accuracy: 0.6590\n",
      "Epoch 44/50\n",
      "2085/2085 [==============================] - 1s 518us/step - loss: 0.7308 - categorical_accuracy: 0.6573 - val_loss: 0.7327 - val_categorical_accuracy: 0.6589\n",
      "Epoch 45/50\n",
      "2085/2085 [==============================] - 1s 526us/step - loss: 0.7298 - categorical_accuracy: 0.6577 - val_loss: 0.7324 - val_categorical_accuracy: 0.6585\n",
      "Epoch 46/50\n",
      "2085/2085 [==============================] - 1s 571us/step - loss: 0.7324 - categorical_accuracy: 0.6548 - val_loss: 0.7320 - val_categorical_accuracy: 0.6586\n",
      "Epoch 47/50\n",
      "2085/2085 [==============================] - 1s 517us/step - loss: 0.7304 - categorical_accuracy: 0.6568 - val_loss: 0.7319 - val_categorical_accuracy: 0.6590\n",
      "Epoch 48/50\n",
      "2085/2085 [==============================] - 1s 505us/step - loss: 0.7327 - categorical_accuracy: 0.6552 - val_loss: 0.7323 - val_categorical_accuracy: 0.6589\n",
      "Epoch 49/50\n",
      "2085/2085 [==============================] - 1s 504us/step - loss: 0.7318 - categorical_accuracy: 0.6579 - val_loss: 0.7335 - val_categorical_accuracy: 0.6582\n",
      "Epoch 50/50\n",
      "2085/2085 [==============================] - 1s 501us/step - loss: 0.7296 - categorical_accuracy: 0.6572 - val_loss: 0.7320 - val_categorical_accuracy: 0.6595\n"
     ]
    }
   ],
   "source": [
    "import tensorflow as tf\n",
    "from tensorflow.keras.models import Model\n",
    "from tensorflow.keras.layers import Input,Dense, Embedding\n",
    "\n",
    "## Creating the layers\n",
    "batch_size = 100\n",
    "input = Input(shape=(5,)) \n",
    "embedding = Embedding(31, 3)(input[:,0])\n",
    "Layer_1 = Dense(10, activation=\"relu\")(tf.concat([embedding, input[:,1:]], 1))\n",
    "Layer_2 = Dense(5, activation=\"relu\")(Layer_1)\n",
    "output_layer= Dense(3, activation=\"softmax\")(Layer_2)\n",
    "\n",
    "model = tf.keras.Model(inputs=input, outputs=output_layer, name=\"emb_model\")\n",
    "opt = tf.keras.optimizers.Adam(learning_rate=0.001)\n",
    "model.compile(optimizer=opt, loss='CategoricalCrossentropy', metrics=['CategoricalAccuracy'])\n",
    "history = model.fit(X_train, y_train, epochs=50, batch_size=batch_size, validation_data=(X_val, y_val))"
   ]
  },
  {
   "cell_type": "code",
   "execution_count": 102,
   "metadata": {},
   "outputs": [
    {
     "data": {
      "image/png": "[encoded data removed]",
      "text/plain": [
       "<Figure size 1080x504 with 1 Axes>"
      ]
     },
     "metadata": {
      "needs_background": "light"
     },
     "output_type": "display_data"
    },
    {
     "name": "stdout",
     "output_type": "stream",
     "text": [
      "[15.0, 7.0]\n"
     ]
    }
   ],
   "source": [
    "import matplotlib.pyplot as plt\n",
    "\n",
    "# increase the size of the graphs. The default size is (6,4).\n",
    "plt.rcParams[\"figure.figsize\"] = (15,7)\n",
    "\n",
    "# graph the loss, the model above is configure to use \"mean squared error\" as the loss function\n",
    "loss = history.history['loss']\n",
    "val_loss = history.history['val_loss']\n",
    "epochs = range(1, len(loss) + 1)\n",
    "plt.plot(epochs, loss, 'g.', label='Training loss')\n",
    "plt.plot(epochs, val_loss, 'b', label='Validation loss')\n",
    "plt.title('Training and validation loss')\n",
    "plt.xlabel('Epochs')\n",
    "plt.ylabel('Loss')\n",
    "plt.legend()\n",
    "plt.show()\n",
    "\n",
    "print(plt.rcParams[\"figure.figsize\"])"
   ]
  },
  {
   "cell_type": "code",
   "execution_count": 101,
   "metadata": {},
   "outputs": [
    {
     "data": {
      "text/plain": [
       "0.659523032942576"
      ]
     },
     "execution_count": 101,
     "metadata": {},
     "output_type": "execute_result"
    }
   ],
   "source": [
    "predictions = model.predict(X_val)\n",
    "from sklearn.metrics import confusion_matrix, f1_score\n",
    "import seaborn as sns\n",
    "predictions = model.predict(X_val)\n",
    "y_pred = []\n",
    "y_true = []\n",
    "for i,row in enumerate(predictions):\n",
    "  y_pred.append(np.argmax(row))\n",
    "  y_true.append(np.argmax(y_val[i]))\n",
    "\n",
    "f1_score(y_true, y_pred, average = 'micro')"
   ]
  },
  {
   "cell_type": "code",
   "execution_count": 76,
   "metadata": {},
   "outputs": [
    {
     "data": {
      "text/plain": [
       "<AxesSubplot:>"
      ]
     },
     "execution_count": 76,
     "metadata": {},
     "output_type": "execute_result"
    },
    {
     "data": {
      "image/png": "[encoded data removed]",
      "text/plain": [
       "<Figure size 1440x720 with 2 Axes>"
      ]
     },
     "metadata": {
      "needs_background": "light"
     },
     "output_type": "display_data"
    }
   ],
   "source": [
    "from sklearn.metrics import confusion_matrix\n",
    "import seaborn as sns\n",
    "predictions = model.predict(X_val)\n",
    "y_pred = []\n",
    "y_true = []\n",
    "for i,row in enumerate(predictions):\n",
    "  y_pred.append(np.argmax(row))\n",
    "  y_true.append(np.argmax(y_val[i]))\n",
    "\n",
    "# print(y_pred)\n",
    "# print(y_true)\n",
    "confusion_matrix(y_true, y_pred)\n",
    "import seaborn as sns\n",
    "sns.heatmap(confusion_matrix(y_true, y_pred), annot=True)\n"
   ]
  },
  {
   "cell_type": "code",
   "execution_count": 82,
   "metadata": {},
   "outputs": [],
   "source": [
    "test_vals_df = pd.read_csv(\"../data/test_values.csv\")\n",
    "# get categorical data\n",
    "X1 = test_vals_df[\"geo_level_1_id\"].to_numpy()\n",
    "\n",
    "## get numerical data\n",
    "df = test_vals_df[[\n",
    "'count_floors_pre_eq',\n",
    "'age',\n",
    "'area_percentage',\n",
    "'height_percentage']]\n",
    "\n",
    "# normalize numerical data\n",
    "min_max_scaler = preprocessing.MinMaxScaler()\n",
    "X2 = min_max_scaler.fit_transform(df.values)\n",
    "\n",
    "\n",
    "\n",
    "X_test = np.concatenate((X1[:,np.newaxis],X2), axis = 1)"
   ]
  },
  {
   "cell_type": "code",
   "execution_count": 91,
   "metadata": {},
   "outputs": [],
   "source": [
    "predictions = model.predict(X_test)\n",
    "y_pred = []\n",
    "for i,row in enumerate(predictions):\n",
    "  y_pred.append(np.argmax(row) + 1)\n",
    "\n"
   ]
  },
  {
   "cell_type": "code",
   "execution_count": 96,
   "metadata": {},
   "outputs": [],
   "source": [
    "submission = pd.DataFrame()\n",
    "submission[\"building_id\"] = test_vals_df[\"building_id\"]\n",
    "submission[\"damage_grade\"] = y_pred"
   ]
  },
  {
   "cell_type": "code",
   "execution_count": 99,
   "metadata": {},
   "outputs": [],
   "source": [
    "submission\n",
    "submission.to_csv(\"embedding_model1.csv\", index=False)"
   ]
  }
 ],
 "metadata": {
  "interpreter": {
   "hash": "c0d8e833406122a0f0152c7188f502beb6f3d00c0d6e5eedffe2e2ee812b07e7"
  },
  "kernelspec": {
   "display_name": "Python 3.8.12 64-bit ('elmoAR': conda)",
   "name": "python3"
  },
  "language_info": {
   "codemirror_mode": {
    "name": "ipython",
    "version": 3
   },
   "file_extension": ".py",
   "mimetype": "text/x-python",
   "name": "python",
   "nbconvert_exporter": "python",
   "pygments_lexer": "ipython3",
   "version": "3.8.12"
  },
  "orig_nbformat": 4
 },
 "nbformat": 4,
 "nbformat_minor": 2
}

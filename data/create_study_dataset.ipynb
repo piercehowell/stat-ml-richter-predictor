{
 "cells": [
  {
   "cell_type": "code",
   "execution_count": 1,
   "metadata": {},
   "outputs": [],
   "source": [
    "import pandas as pd\n",
    "import numpy as np\n",
    "import os"
   ]
  },
  {
   "cell_type": "code",
   "execution_count": 2,
   "metadata": {},
   "outputs": [],
   "source": [
    "# features_df = pd.read_csv(os.path.join(current_dir, \"data/train_values.csv\"))\n",
    "# labels_df = pd.read_csv(os.path.join(current_dir, \"data/train_labels.csv\"))\n",
    "\n",
    "ownership_use = pd.read_csv(\"csv_building_ownership_and_use.csv\")\n",
    "structure = pd.read_csv(\"csv_building_structure.csv\")\n",
    "\n",
    "full_dataset = ownership_use.merge(structure)\n",
    "# full_dataset.drop('technical_solution_proposed')\n",
    "# full_dataset.drop('technical_solution_proposed')"
   ]
  },
  {
   "cell_type": "code",
   "execution_count": 3,
   "metadata": {},
   "outputs": [
    {
     "data": {
      "text/plain": [
       "0         3.0\n",
       "1         5.0\n",
       "2         2.0\n",
       "3         2.0\n",
       "4         1.0\n",
       "         ... \n",
       "762101    5.0\n",
       "762102    5.0\n",
       "762103    5.0\n",
       "762104    5.0\n",
       "762105    5.0\n",
       "Name: damage_grade, Length: 762106, dtype: float64"
      ]
     },
     "execution_count": 3,
     "metadata": {},
     "output_type": "execute_result"
    }
   ],
   "source": [
    "full_dataset['damage_grade'] = full_dataset['damage_grade'].str.replace(\"Grade\", \"\")\n",
    "full_dataset['damage_grade'] = pd.to_numeric(full_dataset['damage_grade'])\n",
    "full_dataset['damage_grade']"
   ]
  },
  {
   "cell_type": "code",
   "execution_count": 4,
   "metadata": {},
   "outputs": [
    {
     "name": "stdout",
     "output_type": "stream",
     "text": [
      "Index(['building_id', 'district_id', 'vdcmun_id', 'ward_id',\n",
      "       'legal_ownership_status', 'count_families', 'has_secondary_use',\n",
      "       'has_secondary_use_agriculture', 'has_secondary_use_hotel',\n",
      "       'has_secondary_use_rental', 'has_secondary_use_institution',\n",
      "       'has_secondary_use_school', 'has_secondary_use_industry',\n",
      "       'has_secondary_use_health_post', 'has_secondary_use_gov_office',\n",
      "       'has_secondary_use_use_police', 'has_secondary_use_other',\n",
      "       'count_floors_pre_eq', 'count_floors_post_eq', 'age_building',\n",
      "       'plinth_area_sq_ft', 'height_ft_pre_eq', 'height_ft_post_eq',\n",
      "       'land_surface_condition', 'foundation_type', 'roof_type',\n",
      "       'ground_floor_type', 'other_floor_type', 'position',\n",
      "       'plan_configuration', 'has_superstructure_adobe_mud',\n",
      "       'has_superstructure_mud_mortar_stone', 'has_superstructure_stone_flag',\n",
      "       'has_superstructure_cement_mortar_stone',\n",
      "       'has_superstructure_mud_mortar_brick',\n",
      "       'has_superstructure_cement_mortar_brick', 'has_superstructure_timber',\n",
      "       'has_superstructure_bamboo', 'has_superstructure_rc_non_engineered',\n",
      "       'has_superstructure_rc_engineered', 'has_superstructure_other',\n",
      "       'condition_post_eq', 'damage_grade', 'technical_solution_proposed'],\n",
      "      dtype='object')\n"
     ]
    }
   ],
   "source": [
    "print(full_dataset.columns)"
   ]
  },
  {
   "cell_type": "code",
   "execution_count": 5,
   "metadata": {},
   "outputs": [],
   "source": [
    "int_columns = ['district_id', 'vdcmun_id', 'ward_id', 'count_families','count_floors_pre_eq', 'count_floors_post_eq', 'age_building',\n",
    "       'plinth_area_sq_ft', 'height_ft_pre_eq', 'height_ft_post_eq']\n",
    "categ_columns = ['legal_ownership_status','land_surface_condition', 'foundation_type', 'roof_type',\n",
    "       'ground_floor_type', 'other_floor_type', 'position', 'plan_configuration', 'condition_post_eq', 'technical_solution_proposed']\n",
    "binary_columns = ['has_secondary_use',\n",
    "       'has_secondary_use_agriculture', 'has_secondary_use_hotel',\n",
    "       'has_secondary_use_rental', 'has_secondary_use_institution',\n",
    "       'has_secondary_use_school', 'has_secondary_use_industry',\n",
    "       'has_secondary_use_health_post', 'has_secondary_use_gov_office',\n",
    "       'has_secondary_use_use_police', 'has_secondary_use_other', 'has_superstructure_adobe_mud',\n",
    "       'has_superstructure_mud_mortar_stone', 'has_superstructure_stone_flag',\n",
    "       'has_superstructure_cement_mortar_stone',\n",
    "       'has_superstructure_mud_mortar_brick',\n",
    "       'has_superstructure_cement_mortar_brick', 'has_superstructure_timber',\n",
    "       'has_superstructure_bamboo', 'has_superstructure_rc_non_engineered',\n",
    "       'has_superstructure_rc_engineered', 'has_superstructure_other']"
   ]
  },
  {
   "cell_type": "code",
   "execution_count": 6,
   "metadata": {},
   "outputs": [
    {
     "name": "stdout",
     "output_type": "stream",
     "text": [
      "Index(['district_id', 'vdcmun_id', 'ward_id', 'count_families',\n",
      "       'count_floors_pre_eq', 'count_floors_post_eq', 'age_building',\n",
      "       'plinth_area_sq_ft', 'height_ft_pre_eq', 'height_ft_post_eq',\n",
      "       'legal_ownership_status', 'land_surface_condition', 'foundation_type',\n",
      "       'roof_type', 'ground_floor_type', 'other_floor_type', 'position',\n",
      "       'plan_configuration', 'condition_post_eq',\n",
      "       'technical_solution_proposed', 'has_secondary_use',\n",
      "       'has_secondary_use_agriculture', 'has_secondary_use_hotel',\n",
      "       'has_secondary_use_rental', 'has_secondary_use_institution',\n",
      "       'has_secondary_use_school', 'has_secondary_use_industry',\n",
      "       'has_secondary_use_health_post', 'has_secondary_use_gov_office',\n",
      "       'has_secondary_use_use_police', 'has_secondary_use_other',\n",
      "       'has_superstructure_adobe_mud', 'has_superstructure_mud_mortar_stone',\n",
      "       'has_superstructure_stone_flag',\n",
      "       'has_superstructure_cement_mortar_stone',\n",
      "       'has_superstructure_mud_mortar_brick',\n",
      "       'has_superstructure_cement_mortar_brick', 'has_superstructure_timber',\n",
      "       'has_superstructure_bamboo', 'has_superstructure_rc_non_engineered',\n",
      "       'has_superstructure_rc_engineered', 'has_superstructure_other',\n",
      "       'damage_grade'],\n",
      "      dtype='object')\n"
     ]
    }
   ],
   "source": [
    "new_dataframe = full_dataset[int_columns + categ_columns + binary_columns + ['damage_grade']]\n",
    "print(new_dataframe.columns)\n",
    "# new_dataframe.to_csv('FULL_DATASET.csv')"
   ]
  },
  {
   "cell_type": "code",
   "execution_count": 7,
   "metadata": {},
   "outputs": [],
   "source": [
    "from sklearn.model_selection import train_test_split\n",
    "X = new_dataframe.drop(columns=['damage_grade'])\n",
    "y = new_dataframe['damage_grade']\n",
    "X_train, X_test, y_train, y_test = train_test_split(X,y,test_size=0.3, random_state=42)"
   ]
  },
  {
   "cell_type": "code",
   "execution_count": 29,
   "metadata": {},
   "outputs": [
    {
     "name": "stdout",
     "output_type": "stream",
     "text": [
      "1\n",
      "0\n"
     ]
    },
    {
     "name": "stderr",
     "output_type": "stream",
     "text": [
      "C:\\Users\\stero\\AppData\\Local\\Temp\\ipykernel_18296\\1334488684.py:9: SettingWithCopyWarning: \n",
      "A value is trying to be set on a copy of a slice from a DataFrame.\n",
      "Try using .loc[row_indexer,col_indexer] = value instead\n",
      "\n",
      "See the caveats in the documentation: https://pandas.pydata.org/pandas-docs/stable/user_guide/indexing.html#returning-a-view-versus-a-copy\n",
      "  X_train_df[X_train_df.isna().any(axis=1)]['count_families'] = 0\n"
     ]
    },
    {
     "data": {
      "text/html": [
       "<div>\n",
       "<style scoped>\n",
       "    .dataframe tbody tr th:only-of-type {\n",
       "        vertical-align: middle;\n",
       "    }\n",
       "\n",
       "    .dataframe tbody tr th {\n",
       "        vertical-align: top;\n",
       "    }\n",
       "\n",
       "    .dataframe thead th {\n",
       "        text-align: right;\n",
       "    }\n",
       "</style>\n",
       "<table border=\"1\" class=\"dataframe\">\n",
       "  <thead>\n",
       "    <tr style=\"text-align: right;\">\n",
       "      <th></th>\n",
       "      <th>district_id</th>\n",
       "      <th>vdcmun_id</th>\n",
       "      <th>ward_id</th>\n",
       "      <th>count_families</th>\n",
       "      <th>count_floors_pre_eq</th>\n",
       "      <th>count_floors_post_eq</th>\n",
       "      <th>age_building</th>\n",
       "      <th>plinth_area_sq_ft</th>\n",
       "      <th>height_ft_pre_eq</th>\n",
       "      <th>height_ft_post_eq</th>\n",
       "      <th>...</th>\n",
       "      <th>has_superstructure_stone_flag</th>\n",
       "      <th>has_superstructure_cement_mortar_stone</th>\n",
       "      <th>has_superstructure_mud_mortar_brick</th>\n",
       "      <th>has_superstructure_cement_mortar_brick</th>\n",
       "      <th>has_superstructure_timber</th>\n",
       "      <th>has_superstructure_bamboo</th>\n",
       "      <th>has_superstructure_rc_non_engineered</th>\n",
       "      <th>has_superstructure_rc_engineered</th>\n",
       "      <th>has_superstructure_other</th>\n",
       "      <th>damage_grade</th>\n",
       "    </tr>\n",
       "  </thead>\n",
       "  <tbody>\n",
       "    <tr>\n",
       "      <th>83715</th>\n",
       "      <td>20</td>\n",
       "      <td>2009</td>\n",
       "      <td>200910</td>\n",
       "      <td>NaN</td>\n",
       "      <td>2</td>\n",
       "      <td>2</td>\n",
       "      <td>3</td>\n",
       "      <td>725</td>\n",
       "      <td>18</td>\n",
       "      <td>18</td>\n",
       "      <td>...</td>\n",
       "      <td>0</td>\n",
       "      <td>0</td>\n",
       "      <td>0</td>\n",
       "      <td>1</td>\n",
       "      <td>0</td>\n",
       "      <td>0</td>\n",
       "      <td>0</td>\n",
       "      <td>0</td>\n",
       "      <td>0</td>\n",
       "      <td>1.0</td>\n",
       "    </tr>\n",
       "  </tbody>\n",
       "</table>\n",
       "<p>1 rows × 43 columns</p>\n",
       "</div>"
      ],
      "text/plain": [
       "       district_id  vdcmun_id  ward_id  count_families  count_floors_pre_eq  \\\n",
       "83715           20       2009   200910             NaN                    2   \n",
       "\n",
       "       count_floors_post_eq  age_building  plinth_area_sq_ft  \\\n",
       "83715                     2             3                725   \n",
       "\n",
       "       height_ft_pre_eq  height_ft_post_eq  ... has_superstructure_stone_flag  \\\n",
       "83715                18                 18  ...                             0   \n",
       "\n",
       "      has_superstructure_cement_mortar_stone  \\\n",
       "83715                                      0   \n",
       "\n",
       "      has_superstructure_mud_mortar_brick  \\\n",
       "83715                                   0   \n",
       "\n",
       "      has_superstructure_cement_mortar_brick has_superstructure_timber  \\\n",
       "83715                                      1                         0   \n",
       "\n",
       "      has_superstructure_bamboo has_superstructure_rc_non_engineered  \\\n",
       "83715                         0                                    0   \n",
       "\n",
       "      has_superstructure_rc_engineered has_superstructure_other damage_grade  \n",
       "83715                                0                        0          1.0  \n",
       "\n",
       "[1 rows x 43 columns]"
      ]
     },
     "execution_count": 29,
     "metadata": {},
     "output_type": "execute_result"
    }
   ],
   "source": [
    "X_train_df = X_train.join(y_train)\n",
    "X_train_df = X_train_df[X_train_df['damage_grade'].notna()]\n",
    "X_test_df = X_test.join(y_test)\n",
    "X_test_df = X_test_df[X_test_df['damage_grade'].notna()]\n",
    "\n",
    "print(X_train_df.isna().sum().sum())\n",
    "print(X_test_df.isna().sum().sum())\n",
    "\n",
    "X_train_df[X_train_df.isna().any(axis=1)]['count_families'] = 0\n",
    "X_train_df[X_train_df.isna().any(axis=1)]"
   ]
  },
  {
   "cell_type": "code",
   "execution_count": 21,
   "metadata": {},
   "outputs": [],
   "source": [
    "X_train_df.to_csv(\"TRAIN_STUDY.csv\")\n",
    "X_test_df.to_csv(\"TEST_STUDY.csv\")"
   ]
  }
 ],
 "metadata": {
  "interpreter": {
   "hash": "1db6f361ceddf2915f7036af462f16c6968575f794c5a432e4fb128126c185ba"
  },
  "kernelspec": {
   "display_name": "Python 3.10.4 ('richter-predictor')",
   "language": "python",
   "name": "python3"
  },
  "language_info": {
   "codemirror_mode": {
    "name": "ipython",
    "version": 3
   },
   "file_extension": ".py",
   "mimetype": "text/x-python",
   "name": "python",
   "nbconvert_exporter": "python",
   "pygments_lexer": "ipython3",
   "version": "3.10.4"
  },
  "orig_nbformat": 4
 },
 "nbformat": 4,
 "nbformat_minor": 2
}
